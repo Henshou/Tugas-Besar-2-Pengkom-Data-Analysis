{
  "cells": [
    {
      "cell_type": "markdown",
      "metadata": {
        "id": "hy6eJKYjDyJ9"
      },
      "source": [
        "#Tugas 1, 2, dan 3 (Deskripsi Data dan File)"
      ]
    },
    {
      "cell_type": "markdown",
      "metadata": {
        "id": "iphLEHo0FkIh"
      },
      "source": [
        "**Dataset :** Data Science Salaries 2023\n",
        "\n",
        "**Format    :** Comma Separated Values (CSV) [ds_salaries.csv]\n",
        "\n",
        "**Source  :** Kaggle"
      ]
    },
    {
      "cell_type": "markdown",
      "metadata": {
        "id": "SNEVjmmNGnrE"
      },
      "source": [
        "### **Informasi yang dapat diperoleh: **\n",
        "\n",
        "Data Science Job Salaries Dataset berisi 11 kolom, berupa:\n",
        "\n",
        "**work_year:** The year the salary was paid.\n",
        "\n",
        "**experience_level:** The experience level in the job during the year\n",
        "\n",
        "**employment_type:** The type of employment for the role\n",
        "\n",
        "**job_title:** The role worked in during the year.\n",
        "\n",
        "**salary:** The total gross salary amount paid.\n",
        "\n",
        "**salary_currency:** The currency of the salary paid as an ISO 4217 currency code.\n",
        "\n",
        "**salaryinusd:** The salary in USD\n",
        "\n",
        "**employee_residence:** Employee's primary country of residence in during the work year as an ISO 3166 country code.\n",
        "\n",
        "**remote_ratio:** The overall amount of work done remotely\n",
        "\n",
        "**company_location:** The country of the employer's main office or contracting branch\n",
        "\n",
        "**company_size:** The median number of people that worked for the company during the year"
      ]
    },
    {
      "cell_type": "code",
      "execution_count": null,
      "metadata": {
        "id": "3Lm0n-VjDNoO"
      },
      "outputs": [],
      "source": [
        "import pandas as pd #import library pandas untuk menganalisis data"
      ]
    },
    {
      "cell_type": "code",
      "execution_count": null,
      "metadata": {
        "id": "7ix4d3mBEN0K"
      },
      "outputs": [],
      "source": [
        "df = pd.read_csv(\"ds_salaries.csv\") #membaca file csv"
      ]
    },
    {
      "cell_type": "code",
      "execution_count": null,
      "metadata": {
        "colab": {
          "base_uri": "https://localhost:8080/",
          "height": 687
        },
        "id": "ps1MkTaj2Gnn",
        "outputId": "85bf9c10-7ce8-4868-a22d-175a93b4e787"
      },
      "outputs": [
        {
          "data": {
            "text/html": [
              "\n",
              "  <div id=\"df-58729ff5-4958-461f-b860-cb2024ad89d9\" class=\"colab-df-container\">\n",
              "    <div>\n",
              "<style scoped>\n",
              "    .dataframe tbody tr th:only-of-type {\n",
              "        vertical-align: middle;\n",
              "    }\n",
              "\n",
              "    .dataframe tbody tr th {\n",
              "        vertical-align: top;\n",
              "    }\n",
              "\n",
              "    .dataframe thead th {\n",
              "        text-align: right;\n",
              "    }\n",
              "</style>\n",
              "<table border=\"1\" class=\"dataframe\">\n",
              "  <thead>\n",
              "    <tr style=\"text-align: right;\">\n",
              "      <th></th>\n",
              "      <th>work_year</th>\n",
              "      <th>experience_level</th>\n",
              "      <th>employment_type</th>\n",
              "      <th>job_title</th>\n",
              "      <th>salary</th>\n",
              "      <th>salary_currency</th>\n",
              "      <th>salary_in_usd</th>\n",
              "      <th>employee_residence</th>\n",
              "      <th>remote_ratio</th>\n",
              "      <th>company_location</th>\n",
              "      <th>company_size</th>\n",
              "    </tr>\n",
              "  </thead>\n",
              "  <tbody>\n",
              "    <tr>\n",
              "      <th>0</th>\n",
              "      <td>2023</td>\n",
              "      <td>SE</td>\n",
              "      <td>FT</td>\n",
              "      <td>Principal Data Scientist</td>\n",
              "      <td>80000</td>\n",
              "      <td>EUR</td>\n",
              "      <td>85847</td>\n",
              "      <td>ES</td>\n",
              "      <td>100</td>\n",
              "      <td>ES</td>\n",
              "      <td>L</td>\n",
              "    </tr>\n",
              "    <tr>\n",
              "      <th>1</th>\n",
              "      <td>2023</td>\n",
              "      <td>MI</td>\n",
              "      <td>CT</td>\n",
              "      <td>ML Engineer</td>\n",
              "      <td>30000</td>\n",
              "      <td>USD</td>\n",
              "      <td>30000</td>\n",
              "      <td>US</td>\n",
              "      <td>100</td>\n",
              "      <td>US</td>\n",
              "      <td>S</td>\n",
              "    </tr>\n",
              "    <tr>\n",
              "      <th>2</th>\n",
              "      <td>2023</td>\n",
              "      <td>MI</td>\n",
              "      <td>CT</td>\n",
              "      <td>ML Engineer</td>\n",
              "      <td>25500</td>\n",
              "      <td>USD</td>\n",
              "      <td>25500</td>\n",
              "      <td>US</td>\n",
              "      <td>100</td>\n",
              "      <td>US</td>\n",
              "      <td>S</td>\n",
              "    </tr>\n",
              "    <tr>\n",
              "      <th>3</th>\n",
              "      <td>2023</td>\n",
              "      <td>SE</td>\n",
              "      <td>FT</td>\n",
              "      <td>Data Scientist</td>\n",
              "      <td>175000</td>\n",
              "      <td>USD</td>\n",
              "      <td>175000</td>\n",
              "      <td>CA</td>\n",
              "      <td>100</td>\n",
              "      <td>CA</td>\n",
              "      <td>M</td>\n",
              "    </tr>\n",
              "    <tr>\n",
              "      <th>4</th>\n",
              "      <td>2023</td>\n",
              "      <td>SE</td>\n",
              "      <td>FT</td>\n",
              "      <td>Data Scientist</td>\n",
              "      <td>120000</td>\n",
              "      <td>USD</td>\n",
              "      <td>120000</td>\n",
              "      <td>CA</td>\n",
              "      <td>100</td>\n",
              "      <td>CA</td>\n",
              "      <td>M</td>\n",
              "    </tr>\n",
              "    <tr>\n",
              "      <th>...</th>\n",
              "      <td>...</td>\n",
              "      <td>...</td>\n",
              "      <td>...</td>\n",
              "      <td>...</td>\n",
              "      <td>...</td>\n",
              "      <td>...</td>\n",
              "      <td>...</td>\n",
              "      <td>...</td>\n",
              "      <td>...</td>\n",
              "      <td>...</td>\n",
              "      <td>...</td>\n",
              "    </tr>\n",
              "    <tr>\n",
              "      <th>3750</th>\n",
              "      <td>2020</td>\n",
              "      <td>SE</td>\n",
              "      <td>FT</td>\n",
              "      <td>Data Scientist</td>\n",
              "      <td>412000</td>\n",
              "      <td>USD</td>\n",
              "      <td>412000</td>\n",
              "      <td>US</td>\n",
              "      <td>100</td>\n",
              "      <td>US</td>\n",
              "      <td>L</td>\n",
              "    </tr>\n",
              "    <tr>\n",
              "      <th>3751</th>\n",
              "      <td>2021</td>\n",
              "      <td>MI</td>\n",
              "      <td>FT</td>\n",
              "      <td>Principal Data Scientist</td>\n",
              "      <td>151000</td>\n",
              "      <td>USD</td>\n",
              "      <td>151000</td>\n",
              "      <td>US</td>\n",
              "      <td>100</td>\n",
              "      <td>US</td>\n",
              "      <td>L</td>\n",
              "    </tr>\n",
              "    <tr>\n",
              "      <th>3752</th>\n",
              "      <td>2020</td>\n",
              "      <td>EN</td>\n",
              "      <td>FT</td>\n",
              "      <td>Data Scientist</td>\n",
              "      <td>105000</td>\n",
              "      <td>USD</td>\n",
              "      <td>105000</td>\n",
              "      <td>US</td>\n",
              "      <td>100</td>\n",
              "      <td>US</td>\n",
              "      <td>S</td>\n",
              "    </tr>\n",
              "    <tr>\n",
              "      <th>3753</th>\n",
              "      <td>2020</td>\n",
              "      <td>EN</td>\n",
              "      <td>CT</td>\n",
              "      <td>Business Data Analyst</td>\n",
              "      <td>100000</td>\n",
              "      <td>USD</td>\n",
              "      <td>100000</td>\n",
              "      <td>US</td>\n",
              "      <td>100</td>\n",
              "      <td>US</td>\n",
              "      <td>L</td>\n",
              "    </tr>\n",
              "    <tr>\n",
              "      <th>3754</th>\n",
              "      <td>2021</td>\n",
              "      <td>SE</td>\n",
              "      <td>FT</td>\n",
              "      <td>Data Science Manager</td>\n",
              "      <td>7000000</td>\n",
              "      <td>INR</td>\n",
              "      <td>94665</td>\n",
              "      <td>IN</td>\n",
              "      <td>50</td>\n",
              "      <td>IN</td>\n",
              "      <td>L</td>\n",
              "    </tr>\n",
              "  </tbody>\n",
              "</table>\n",
              "<p>3755 rows × 11 columns</p>\n",
              "</div>\n",
              "    <div class=\"colab-df-buttons\">\n",
              "\n",
              "  <div class=\"colab-df-container\">\n",
              "    <button class=\"colab-df-convert\" onclick=\"convertToInteractive('df-58729ff5-4958-461f-b860-cb2024ad89d9')\"\n",
              "            title=\"Convert this dataframe to an interactive table.\"\n",
              "            style=\"display:none;\">\n",
              "\n",
              "  <svg xmlns=\"http://www.w3.org/2000/svg\" height=\"24px\" viewBox=\"0 -960 960 960\">\n",
              "    <path d=\"M120-120v-720h720v720H120Zm60-500h600v-160H180v160Zm220 220h160v-160H400v160Zm0 220h160v-160H400v160ZM180-400h160v-160H180v160Zm440 0h160v-160H620v160ZM180-180h160v-160H180v160Zm440 0h160v-160H620v160Z\"/>\n",
              "  </svg>\n",
              "    </button>\n",
              "\n",
              "  <style>\n",
              "    .colab-df-container {\n",
              "      display:flex;\n",
              "      gap: 12px;\n",
              "    }\n",
              "\n",
              "    .colab-df-convert {\n",
              "      background-color: #E8F0FE;\n",
              "      border: none;\n",
              "      border-radius: 50%;\n",
              "      cursor: pointer;\n",
              "      display: none;\n",
              "      fill: #1967D2;\n",
              "      height: 32px;\n",
              "      padding: 0 0 0 0;\n",
              "      width: 32px;\n",
              "    }\n",
              "\n",
              "    .colab-df-convert:hover {\n",
              "      background-color: #E2EBFA;\n",
              "      box-shadow: 0px 1px 2px rgba(60, 64, 67, 0.3), 0px 1px 3px 1px rgba(60, 64, 67, 0.15);\n",
              "      fill: #174EA6;\n",
              "    }\n",
              "\n",
              "    .colab-df-buttons div {\n",
              "      margin-bottom: 4px;\n",
              "    }\n",
              "\n",
              "    [theme=dark] .colab-df-convert {\n",
              "      background-color: #3B4455;\n",
              "      fill: #D2E3FC;\n",
              "    }\n",
              "\n",
              "    [theme=dark] .colab-df-convert:hover {\n",
              "      background-color: #434B5C;\n",
              "      box-shadow: 0px 1px 3px 1px rgba(0, 0, 0, 0.15);\n",
              "      filter: drop-shadow(0px 1px 2px rgba(0, 0, 0, 0.3));\n",
              "      fill: #FFFFFF;\n",
              "    }\n",
              "  </style>\n",
              "\n",
              "    <script>\n",
              "      const buttonEl =\n",
              "        document.querySelector('#df-58729ff5-4958-461f-b860-cb2024ad89d9 button.colab-df-convert');\n",
              "      buttonEl.style.display =\n",
              "        google.colab.kernel.accessAllowed ? 'block' : 'none';\n",
              "\n",
              "      async function convertToInteractive(key) {\n",
              "        const element = document.querySelector('#df-58729ff5-4958-461f-b860-cb2024ad89d9');\n",
              "        const dataTable =\n",
              "          await google.colab.kernel.invokeFunction('convertToInteractive',\n",
              "                                                    [key], {});\n",
              "        if (!dataTable) return;\n",
              "\n",
              "        const docLinkHtml = 'Like what you see? Visit the ' +\n",
              "          '<a target=\"_blank\" href=https://colab.research.google.com/notebooks/data_table.ipynb>data table notebook</a>'\n",
              "          + ' to learn more about interactive tables.';\n",
              "        element.innerHTML = '';\n",
              "        dataTable['output_type'] = 'display_data';\n",
              "        await google.colab.output.renderOutput(dataTable, element);\n",
              "        const docLink = document.createElement('div');\n",
              "        docLink.innerHTML = docLinkHtml;\n",
              "        element.appendChild(docLink);\n",
              "      }\n",
              "    </script>\n",
              "  </div>\n",
              "\n",
              "\n",
              "<div id=\"df-d3807107-9bc6-422d-82e7-824493322384\">\n",
              "  <button class=\"colab-df-quickchart\" onclick=\"quickchart('df-d3807107-9bc6-422d-82e7-824493322384')\"\n",
              "            title=\"Suggest charts\"\n",
              "            style=\"display:none;\">\n",
              "\n",
              "<svg xmlns=\"http://www.w3.org/2000/svg\" height=\"24px\"viewBox=\"0 0 24 24\"\n",
              "     width=\"24px\">\n",
              "    <g>\n",
              "        <path d=\"M19 3H5c-1.1 0-2 .9-2 2v14c0 1.1.9 2 2 2h14c1.1 0 2-.9 2-2V5c0-1.1-.9-2-2-2zM9 17H7v-7h2v7zm4 0h-2V7h2v10zm4 0h-2v-4h2v4z\"/>\n",
              "    </g>\n",
              "</svg>\n",
              "  </button>\n",
              "\n",
              "<style>\n",
              "  .colab-df-quickchart {\n",
              "      --bg-color: #E8F0FE;\n",
              "      --fill-color: #1967D2;\n",
              "      --hover-bg-color: #E2EBFA;\n",
              "      --hover-fill-color: #174EA6;\n",
              "      --disabled-fill-color: #AAA;\n",
              "      --disabled-bg-color: #DDD;\n",
              "  }\n",
              "\n",
              "  [theme=dark] .colab-df-quickchart {\n",
              "      --bg-color: #3B4455;\n",
              "      --fill-color: #D2E3FC;\n",
              "      --hover-bg-color: #434B5C;\n",
              "      --hover-fill-color: #FFFFFF;\n",
              "      --disabled-bg-color: #3B4455;\n",
              "      --disabled-fill-color: #666;\n",
              "  }\n",
              "\n",
              "  .colab-df-quickchart {\n",
              "    background-color: var(--bg-color);\n",
              "    border: none;\n",
              "    border-radius: 50%;\n",
              "    cursor: pointer;\n",
              "    display: none;\n",
              "    fill: var(--fill-color);\n",
              "    height: 32px;\n",
              "    padding: 0;\n",
              "    width: 32px;\n",
              "  }\n",
              "\n",
              "  .colab-df-quickchart:hover {\n",
              "    background-color: var(--hover-bg-color);\n",
              "    box-shadow: 0 1px 2px rgba(60, 64, 67, 0.3), 0 1px 3px 1px rgba(60, 64, 67, 0.15);\n",
              "    fill: var(--button-hover-fill-color);\n",
              "  }\n",
              "\n",
              "  .colab-df-quickchart-complete:disabled,\n",
              "  .colab-df-quickchart-complete:disabled:hover {\n",
              "    background-color: var(--disabled-bg-color);\n",
              "    fill: var(--disabled-fill-color);\n",
              "    box-shadow: none;\n",
              "  }\n",
              "\n",
              "  .colab-df-spinner {\n",
              "    border: 2px solid var(--fill-color);\n",
              "    border-color: transparent;\n",
              "    border-bottom-color: var(--fill-color);\n",
              "    animation:\n",
              "      spin 1s steps(1) infinite;\n",
              "  }\n",
              "\n",
              "  @keyframes spin {\n",
              "    0% {\n",
              "      border-color: transparent;\n",
              "      border-bottom-color: var(--fill-color);\n",
              "      border-left-color: var(--fill-color);\n",
              "    }\n",
              "    20% {\n",
              "      border-color: transparent;\n",
              "      border-left-color: var(--fill-color);\n",
              "      border-top-color: var(--fill-color);\n",
              "    }\n",
              "    30% {\n",
              "      border-color: transparent;\n",
              "      border-left-color: var(--fill-color);\n",
              "      border-top-color: var(--fill-color);\n",
              "      border-right-color: var(--fill-color);\n",
              "    }\n",
              "    40% {\n",
              "      border-color: transparent;\n",
              "      border-right-color: var(--fill-color);\n",
              "      border-top-color: var(--fill-color);\n",
              "    }\n",
              "    60% {\n",
              "      border-color: transparent;\n",
              "      border-right-color: var(--fill-color);\n",
              "    }\n",
              "    80% {\n",
              "      border-color: transparent;\n",
              "      border-right-color: var(--fill-color);\n",
              "      border-bottom-color: var(--fill-color);\n",
              "    }\n",
              "    90% {\n",
              "      border-color: transparent;\n",
              "      border-bottom-color: var(--fill-color);\n",
              "    }\n",
              "  }\n",
              "</style>\n",
              "\n",
              "  <script>\n",
              "    async function quickchart(key) {\n",
              "      const quickchartButtonEl =\n",
              "        document.querySelector('#' + key + ' button');\n",
              "      quickchartButtonEl.disabled = true;  // To prevent multiple clicks.\n",
              "      quickchartButtonEl.classList.add('colab-df-spinner');\n",
              "      try {\n",
              "        const charts = await google.colab.kernel.invokeFunction(\n",
              "            'suggestCharts', [key], {});\n",
              "      } catch (error) {\n",
              "        console.error('Error during call to suggestCharts:', error);\n",
              "      }\n",
              "      quickchartButtonEl.classList.remove('colab-df-spinner');\n",
              "      quickchartButtonEl.classList.add('colab-df-quickchart-complete');\n",
              "    }\n",
              "    (() => {\n",
              "      let quickchartButtonEl =\n",
              "        document.querySelector('#df-d3807107-9bc6-422d-82e7-824493322384 button');\n",
              "      quickchartButtonEl.style.display =\n",
              "        google.colab.kernel.accessAllowed ? 'block' : 'none';\n",
              "    })();\n",
              "  </script>\n",
              "</div>\n",
              "    </div>\n",
              "  </div>\n"
            ],
            "text/plain": [
              "      work_year experience_level employment_type                 job_title  \\\n",
              "0          2023               SE              FT  Principal Data Scientist   \n",
              "1          2023               MI              CT               ML Engineer   \n",
              "2          2023               MI              CT               ML Engineer   \n",
              "3          2023               SE              FT            Data Scientist   \n",
              "4          2023               SE              FT            Data Scientist   \n",
              "...         ...              ...             ...                       ...   \n",
              "3750       2020               SE              FT            Data Scientist   \n",
              "3751       2021               MI              FT  Principal Data Scientist   \n",
              "3752       2020               EN              FT            Data Scientist   \n",
              "3753       2020               EN              CT     Business Data Analyst   \n",
              "3754       2021               SE              FT      Data Science Manager   \n",
              "\n",
              "       salary salary_currency  salary_in_usd employee_residence  remote_ratio  \\\n",
              "0       80000             EUR          85847                 ES           100   \n",
              "1       30000             USD          30000                 US           100   \n",
              "2       25500             USD          25500                 US           100   \n",
              "3      175000             USD         175000                 CA           100   \n",
              "4      120000             USD         120000                 CA           100   \n",
              "...       ...             ...            ...                ...           ...   \n",
              "3750   412000             USD         412000                 US           100   \n",
              "3751   151000             USD         151000                 US           100   \n",
              "3752   105000             USD         105000                 US           100   \n",
              "3753   100000             USD         100000                 US           100   \n",
              "3754  7000000             INR          94665                 IN            50   \n",
              "\n",
              "     company_location company_size  \n",
              "0                  ES            L  \n",
              "1                  US            S  \n",
              "2                  US            S  \n",
              "3                  CA            M  \n",
              "4                  CA            M  \n",
              "...               ...          ...  \n",
              "3750               US            L  \n",
              "3751               US            L  \n",
              "3752               US            S  \n",
              "3753               US            L  \n",
              "3754               IN            L  \n",
              "\n",
              "[3755 rows x 11 columns]"
            ]
          },
          "metadata": {},
          "output_type": "display_data"
        }
      ],
      "source": [
        "import io\n",
        "df = pd.read_csv(\"ds_salaries.csv\")\n",
        "display(df)\n"
      ]
    },
    {
      "cell_type": "code",
      "execution_count": null,
      "metadata": {
        "colab": {
          "base_uri": "https://localhost:8080/"
        },
        "id": "izsxi8iN5iiC",
        "outputId": "62d59f33-65ab-4398-e81f-d1ef09a2da55"
      },
      "outputs": [
        {
          "name": "stdout",
          "output_type": "stream",
          "text": [
            " Data pendapatan Data science job dari tahun 2020 hingga 2023\n"
          ]
        }
      ],
      "source": [
        "# RENTANG TAHUN DATA\n",
        "\n",
        "tahun_awal = df[\"work_year\"].min()\n",
        "tahun_akhir = df[\"work_year\"].max()\n",
        "\n",
        "print (f\" Data pendapatan Data science job dari tahun {tahun_awal} hingga {tahun_akhir}\")"
      ]
    },
    {
      "cell_type": "markdown",
      "metadata": {
        "id": "x8lRMOhqHrS6"
      },
      "source": [
        "**Dimensi:**"
      ]
    },
    {
      "cell_type": "code",
      "execution_count": null,
      "metadata": {
        "colab": {
          "base_uri": "https://localhost:8080/"
        },
        "id": "IQl5DxEvF0Y8",
        "outputId": "70f58d1c-cb2e-4db6-fcda-3b9878c94688"
      },
      "outputs": [
        {
          "data": {
            "text/plain": [
              "3755"
            ]
          },
          "execution_count": 5,
          "metadata": {},
          "output_type": "execute_result"
        }
      ],
      "source": [
        "len (df) #row"
      ]
    },
    {
      "cell_type": "code",
      "execution_count": null,
      "metadata": {
        "colab": {
          "base_uri": "https://localhost:8080/"
        },
        "id": "SCn91vuME4WR",
        "outputId": "5d3c84dc-9d5f-4fa2-a0f6-eb72b25e7200"
      },
      "outputs": [
        {
          "name": "stdout",
          "output_type": "stream",
          "text": [
            "11\n"
          ]
        }
      ],
      "source": [
        "print(df.shape[1]) #column"
      ]
    },
    {
      "cell_type": "code",
      "execution_count": null,
      "metadata": {
        "colab": {
          "base_uri": "https://localhost:8080/"
        },
        "id": "ceEQJNEY7X69",
        "outputId": "799244ad-857b-4045-9956-2d91c4e0d402"
      },
      "outputs": [
        {
          "name": "stdout",
          "output_type": "stream",
          "text": [
            "Data ini berdimensi (3755, 11) dengan 3.755 baris dan 11 kolom.\n"
          ]
        }
      ],
      "source": [
        "# DIMENSI DATA\n",
        "\n",
        "dimensi = df.shape\n",
        "\n",
        "print (f\"Data ini berdimensi {dimensi} dengan 3.755 baris dan 11 kolom.\")"
      ]
    },
    {
      "cell_type": "markdown",
      "metadata": {
        "id": "KeX6RHvb7KuK"
      },
      "source": [
        "**Ukuran File Original:**"
      ]
    },
    {
      "cell_type": "code",
      "execution_count": null,
      "metadata": {
        "colab": {
          "base_uri": "https://localhost:8080/"
        },
        "id": "4za9OR5cGd2E",
        "outputId": "93469fb3-f7bc-43c1-f058-5d829df2cca2"
      },
      "outputs": [
        {
          "name": "stdout",
          "output_type": "stream",
          "text": [
            "Ukuran file dataframe adalah:  322.8203125 KB\n"
          ]
        }
      ],
      "source": [
        "# UKURAN FILE ORIGINAL\n",
        "size = df.memory_usage(deep=False).sum()\n",
        "size_in_kb = size / 1024\n",
        "print(\"Ukuran file dataframe adalah: \", size_in_kb, \"KB\") #ukuran file"
      ]
    },
    {
      "cell_type": "markdown",
      "metadata": {
        "id": "2DlTE9lKID07"
      },
      "source": [
        "#Tugas 4 (Karakteristik Data)"
      ]
    },
    {
      "cell_type": "code",
      "execution_count": null,
      "metadata": {
        "colab": {
          "base_uri": "https://localhost:8080/"
        },
        "id": "5HJmV-nPIl2P",
        "outputId": "d00ade9a-e9ad-4c9b-c28a-8ec3edbb843d"
      },
      "outputs": [
        {
          "name": "stdout",
          "output_type": "stream",
          "text": [
            "['work_year', 'experience_level', 'employment_type', 'job_title', 'salary', 'salary_currency', 'salary_in_usd', 'employee_residence', 'remote_ratio', 'company_location', 'company_size']\n"
          ]
        }
      ],
      "source": [
        "print (list(df)) #11 jenis kolom"
      ]
    },
    {
      "cell_type": "code",
      "execution_count": null,
      "metadata": {
        "colab": {
          "base_uri": "https://localhost:8080/"
        },
        "id": "KZmrW6jC_zYt",
        "outputId": "82c46aa2-6e0d-4adc-b8ba-64ab8e5d2ab8"
      },
      "outputs": [
        {
          "data": {
            "text/plain": [
              "work_year              int64\n",
              "experience_level      object\n",
              "employment_type       object\n",
              "job_title             object\n",
              "salary                 int64\n",
              "salary_currency       object\n",
              "salary_in_usd          int64\n",
              "employee_residence    object\n",
              "remote_ratio           int64\n",
              "company_location      object\n",
              "company_size          object\n",
              "dtype: object"
            ]
          },
          "execution_count": 18,
          "metadata": {},
          "output_type": "execute_result"
        }
      ],
      "source": [
        "# JENIS DATA\n",
        "df[:0].dtypes"
      ]
    },
    {
      "cell_type": "code",
      "execution_count": null,
      "metadata": {
        "colab": {
          "base_uri": "https://localhost:8080/"
        },
        "id": "CmmvILVBEGcy",
        "outputId": "969e50d1-7da5-45b1-f6a4-169b0513f25a"
      },
      "outputs": [
        {
          "name": "stdout",
          "output_type": "stream",
          "text": [
            " Data pendapatan Data science job dari tahun 2020 hingga 2023\n"
          ]
        }
      ],
      "source": [
        "# KARAKTERISTIK DATA \"WORK_YEAR\"\n",
        "\n",
        "tahun_awal = df[\"work_year\"].min()\n",
        "tahun_akhir = df[\"work_year\"].max()\n",
        "\n",
        "print (f\" Data pendapatan Data science job dari tahun {tahun_awal} hingga {tahun_akhir}\")"
      ]
    },
    {
      "cell_type": "code",
      "execution_count": null,
      "metadata": {
        "colab": {
          "base_uri": "https://localhost:8080/"
        },
        "id": "g2gQmGzhENfH",
        "outputId": "0bf83820-0d88-4ff0-ca20-2cfbe5870807"
      },
      "outputs": [
        {
          "name": "stdout",
          "output_type": "stream",
          "text": [
            "Jumlah penerima gaji setiap tahunnya adalah\n"
          ]
        },
        {
          "data": {
            "text/plain": [
              "2023    1785\n",
              "2022    1664\n",
              "2021     230\n",
              "2020      76\n",
              "Name: work_year, dtype: int64"
            ]
          },
          "execution_count": 20,
          "metadata": {},
          "output_type": "execute_result"
        }
      ],
      "source": [
        "print (\"Jumlah penerima gaji setiap tahunnya adalah\")\n",
        "df [\"work_year\"].value_counts()"
      ]
    },
    {
      "cell_type": "markdown",
      "metadata": {
        "id": "8Cz2UETZMpYN"
      },
      "source": [
        "**Atribut Kuantitatif:**"
      ]
    },
    {
      "cell_type": "code",
      "execution_count": null,
      "metadata": {
        "colab": {
          "base_uri": "https://localhost:8080/"
        },
        "id": "bVVz6VyBLLBr",
        "outputId": "2036adf3-832a-4413-e318-317e39dbaad4"
      },
      "outputs": [
        {
          "name": "stdout",
          "output_type": "stream",
          "text": [
            "4\n"
          ]
        }
      ],
      "source": [
        "print(df.select_dtypes('number').shape[1]) #jumlah atribut kuantitatif"
      ]
    },
    {
      "cell_type": "code",
      "execution_count": null,
      "metadata": {
        "colab": {
          "base_uri": "https://localhost:8080/"
        },
        "id": "vrPL0AlCMPB0",
        "outputId": "cde3e737-8827-4bf9-f3bd-fcbbed7fa579"
      },
      "outputs": [
        {
          "name": "stdout",
          "output_type": "stream",
          "text": [
            "Index(['work_year', 'salary', 'salary_in_usd', 'remote_ratio'], dtype='object')\n"
          ]
        }
      ],
      "source": [
        "print(df.select_dtypes('number').columns) #nama kolom"
      ]
    },
    {
      "cell_type": "markdown",
      "metadata": {
        "id": "QBEUERn-PIaK"
      },
      "source": [
        "**Menentukan Nilai Minimum dan Maksimum**"
      ]
    },
    {
      "cell_type": "code",
      "execution_count": null,
      "metadata": {
        "id": "NCMSs_MXPRAA"
      },
      "outputs": [],
      "source": [
        "minimum, maximum = (df.min(), df.max())"
      ]
    },
    {
      "cell_type": "code",
      "execution_count": null,
      "metadata": {
        "colab": {
          "base_uri": "https://localhost:8080/"
        },
        "id": "LPLpZRuwPYW1",
        "outputId": "fdef0014-ed02-4cad-f3b8-bd93f4278efa"
      },
      "outputs": [
        {
          "name": "stdout",
          "output_type": "stream",
          "text": [
            "2020 2023\n"
          ]
        }
      ],
      "source": [
        "print (minimum[\"work_year\"], maximum[\"work_year\"]) #range kolom work_year"
      ]
    },
    {
      "cell_type": "code",
      "execution_count": null,
      "metadata": {
        "colab": {
          "base_uri": "https://localhost:8080/"
        },
        "id": "O2gfcrwYP7NO",
        "outputId": "a2a3a728-6f01-46ef-a562-cae37663fba0"
      },
      "outputs": [
        {
          "name": "stdout",
          "output_type": "stream",
          "text": [
            "6000 30400000\n"
          ]
        }
      ],
      "source": [
        "print (minimum[\"salary\"], maximum[\"salary\"])#range kolom salary"
      ]
    },
    {
      "cell_type": "code",
      "execution_count": null,
      "metadata": {
        "colab": {
          "base_uri": "https://localhost:8080/"
        },
        "id": "CP0VdqLIcbKx",
        "outputId": "bdb619c1-9baf-472b-ec1b-70aae55c4d1b"
      },
      "outputs": [
        {
          "name": "stdout",
          "output_type": "stream",
          "text": [
            " nilai mainimum pendapatan adalah 5132 USD dan nilai maksimum pendapatan adalah 450000 USD\n"
          ]
        }
      ],
      "source": [
        "# MINIMUM AND MAXIMUM SALARY IN USD\n",
        "\n",
        "min_salary = df[\"salary_in_usd\"].min()\n",
        "max_salary = df[\"salary_in_usd\"].max()\n",
        "\n",
        "print (f\" nilai mainimum pendapatan adalah {min_salary} USD dan nilai maksimum pendapatan adalah {max_salary} USD\")"
      ]
    },
    {
      "cell_type": "code",
      "execution_count": null,
      "metadata": {
        "colab": {
          "base_uri": "https://localhost:8080/",
          "height": 175
        },
        "id": "Pj80a9w6QZsT",
        "outputId": "6843b9a5-2a80-4322-b164-7a3d58c9ffe7"
      },
      "outputs": [
        {
          "ename": "NameError",
          "evalue": "ignored",
          "output_type": "error",
          "traceback": [
            "\u001b[0;31m---------------------------------------------------------------------------\u001b[0m",
            "\u001b[0;31mNameError\u001b[0m                                 Traceback (most recent call last)",
            "\u001b[0;32m<ipython-input-22-7ff131dae693>\u001b[0m in \u001b[0;36m<cell line: 1>\u001b[0;34m()\u001b[0m\n\u001b[0;32m----> 1\u001b[0;31m \u001b[0mprint\u001b[0m \u001b[0;34m(\u001b[0m\u001b[0mminimum\u001b[0m\u001b[0;34m[\u001b[0m\u001b[0;34m\"salary_in_usd\"\u001b[0m\u001b[0;34m]\u001b[0m\u001b[0;34m,\u001b[0m \u001b[0mmaximum\u001b[0m\u001b[0;34m[\u001b[0m\u001b[0;34m\"salary_in_usd\"\u001b[0m\u001b[0;34m]\u001b[0m\u001b[0;34m)\u001b[0m \u001b[0;31m#range kolom salary_in_usd\u001b[0m\u001b[0;34m\u001b[0m\u001b[0;34m\u001b[0m\u001b[0m\n\u001b[0m",
            "\u001b[0;31mNameError\u001b[0m: name 'minimum' is not defined"
          ]
        }
      ],
      "source": [
        "print (minimum[\"salary_in_usd\"], maximum[\"salary_in_usd\"]) #range kolom salary_in_usd"
      ]
    },
    {
      "cell_type": "code",
      "execution_count": null,
      "metadata": {
        "colab": {
          "base_uri": "https://localhost:8080/"
        },
        "id": "1EaCWqqnQgp-",
        "outputId": "8bfb7bdb-9641-4ae0-9f16-dac6ce7fa5c0"
      },
      "outputs": [
        {
          "name": "stdout",
          "output_type": "stream",
          "text": [
            "0 100\n"
          ]
        }
      ],
      "source": [
        "print (minimum[\"remote_ratio\"], maximum[\"remote_ratio\"]) #range kolom remote_ratio"
      ]
    },
    {
      "cell_type": "markdown",
      "metadata": {
        "id": "eT_MkrDyMymd"
      },
      "source": [
        "**Atribut Kategorikal**"
      ]
    },
    {
      "cell_type": "code",
      "execution_count": null,
      "metadata": {
        "colab": {
          "base_uri": "https://localhost:8080/"
        },
        "id": "FP7sdsgzMaOn",
        "outputId": "8d2829dc-7bd6-41f9-b8f6-a10c7956a714"
      },
      "outputs": [
        {
          "data": {
            "text/plain": [
              "7"
            ]
          },
          "execution_count": 16,
          "metadata": {},
          "output_type": "execute_result"
        }
      ],
      "source": [
        "df.select_dtypes(exclude = ['number']).shape[1] #jumlah atribut kategorikal"
      ]
    },
    {
      "cell_type": "code",
      "execution_count": null,
      "metadata": {
        "colab": {
          "base_uri": "https://localhost:8080/"
        },
        "id": "bqY5FV5VLYPq",
        "outputId": "7b6a69c3-914a-4c49-a793-dbea510c51ca"
      },
      "outputs": [
        {
          "data": {
            "text/plain": [
              "Index(['experience_level', 'employment_type', 'job_title', 'salary_currency',\n",
              "       'employee_residence', 'company_location', 'company_size'],\n",
              "      dtype='object')"
            ]
          },
          "execution_count": 17,
          "metadata": {},
          "output_type": "execute_result"
        }
      ],
      "source": [
        "df.select_dtypes(exclude = ['number']).columns #nama kolom"
      ]
    },
    {
      "cell_type": "markdown",
      "metadata": {
        "id": "7zix7RGpOyGl"
      },
      "source": [
        "**Karakteristik Data Kategorikal**"
      ]
    },
    {
      "cell_type": "code",
      "execution_count": null,
      "metadata": {
        "colab": {
          "base_uri": "https://localhost:8080/"
        },
        "id": "9M8X5OhiOofy",
        "outputId": "788dc11d-46ff-4be0-b349-09f2003e9f11"
      },
      "outputs": [
        {
          "name": "stdout",
          "output_type": "stream",
          "text": [
            "M    3153\n",
            "L     454\n",
            "S     148\n",
            "Name: company_size, dtype: int64\n"
          ]
        }
      ],
      "source": [
        "print(df[\"company_size\"].value_counts()) #nilai pada kolom company_size"
      ]
    },
    {
      "cell_type": "code",
      "execution_count": null,
      "metadata": {
        "colab": {
          "base_uri": "https://localhost:8080/"
        },
        "id": "4j8Y8TmTOjSN",
        "outputId": "05761ae8-e7b3-4950-e321-b2f2bd1a9eee"
      },
      "outputs": [
        {
          "name": "stdout",
          "output_type": "stream",
          "text": [
            "US    3040\n",
            "GB     172\n",
            "CA      87\n",
            "ES      77\n",
            "IN      58\n",
            "      ... \n",
            "MK       1\n",
            "BS       1\n",
            "IR       1\n",
            "CR       1\n",
            "MT       1\n",
            "Name: company_location, Length: 72, dtype: int64\n"
          ]
        }
      ],
      "source": [
        "print(df[\"company_location\"].value_counts()) #nilai pada kolom company_location"
      ]
    },
    {
      "cell_type": "code",
      "execution_count": null,
      "metadata": {
        "colab": {
          "base_uri": "https://localhost:8080/"
        },
        "id": "cFsr43k7OdAQ",
        "outputId": "dec39866-c384-4023-f0db-b511221675c4"
      },
      "outputs": [
        {
          "name": "stdout",
          "output_type": "stream",
          "text": [
            "US    3004\n",
            "GB     167\n",
            "CA      85\n",
            "ES      80\n",
            "IN      71\n",
            "      ... \n",
            "BA       1\n",
            "AM       1\n",
            "CY       1\n",
            "KW       1\n",
            "MT       1\n",
            "Name: employee_residence, Length: 78, dtype: int64\n"
          ]
        }
      ],
      "source": [
        "print(df[\"employee_residence\"].value_counts()) #nilai pada kolom employee_residence"
      ]
    },
    {
      "cell_type": "code",
      "execution_count": null,
      "metadata": {
        "colab": {
          "base_uri": "https://localhost:8080/"
        },
        "id": "D-6fgrp_OOLi",
        "outputId": "2af4703f-e1c3-4927-e677-b00cf2829162"
      },
      "outputs": [
        {
          "name": "stdout",
          "output_type": "stream",
          "text": [
            "Data Engineer                          1040\n",
            "Data Scientist                          840\n",
            "Data Analyst                            612\n",
            "Machine Learning Engineer               289\n",
            "Analytics Engineer                      103\n",
            "                                       ... \n",
            "Principal Machine Learning Engineer       1\n",
            "Azure Data Engineer                       1\n",
            "Manager Data Management                   1\n",
            "Marketing Data Engineer                   1\n",
            "Finance Data Analyst                      1\n",
            "Name: job_title, Length: 93, dtype: int64\n"
          ]
        }
      ],
      "source": [
        "print(df[\"job_title\"].value_counts()) #nilai pada kolom job_title"
      ]
    },
    {
      "cell_type": "code",
      "execution_count": null,
      "metadata": {
        "colab": {
          "base_uri": "https://localhost:8080/"
        },
        "id": "WYyDZqxFOGk5",
        "outputId": "ca48f08a-0cd6-4a46-8be5-c050032ac063"
      },
      "outputs": [
        {
          "name": "stdout",
          "output_type": "stream",
          "text": [
            "FT    3718\n",
            "PT      17\n",
            "CT      10\n",
            "FL      10\n",
            "Name: employment_type, dtype: int64\n"
          ]
        }
      ],
      "source": [
        "print(df[\"employment_type\"].value_counts()) #nilai pada kolom employment_type"
      ]
    },
    {
      "cell_type": "code",
      "execution_count": null,
      "metadata": {
        "colab": {
          "base_uri": "https://localhost:8080/"
        },
        "id": "Pl0iZxFUNOb4",
        "outputId": "0efafc6f-9aa1-4a32-f800-e822ca897789"
      },
      "outputs": [
        {
          "name": "stdout",
          "output_type": "stream",
          "text": [
            "USD    3224\n",
            "EUR     236\n",
            "GBP     161\n",
            "INR      60\n",
            "CAD      25\n",
            "AUD       9\n",
            "SGD       6\n",
            "BRL       6\n",
            "PLN       5\n",
            "CHF       4\n",
            "HUF       3\n",
            "DKK       3\n",
            "JPY       3\n",
            "TRY       3\n",
            "THB       2\n",
            "ILS       1\n",
            "HKD       1\n",
            "CZK       1\n",
            "MXN       1\n",
            "CLP       1\n",
            "Name: salary_currency, dtype: int64\n"
          ]
        }
      ],
      "source": [
        "print(df[\"salary_currency\"].value_counts()) #nilai pada kolom salary_currency"
      ]
    },
    {
      "cell_type": "code",
      "execution_count": null,
      "metadata": {
        "colab": {
          "base_uri": "https://localhost:8080/"
        },
        "id": "liC7Dq_8NuRp",
        "outputId": "6cd13535-76cf-4f08-8ffe-a3389e955916"
      },
      "outputs": [
        {
          "name": "stdout",
          "output_type": "stream",
          "text": [
            "SE    2516\n",
            "MI     805\n",
            "EN     320\n",
            "EX     114\n",
            "Name: experience_level, dtype: int64\n"
          ]
        }
      ],
      "source": [
        "print(df[\"experience_level\"].value_counts()) #nilai pada kolom experience_level"
      ]
    },
    {
      "cell_type": "markdown",
      "metadata": {
        "id": "JXLUNjQpPAU5"
      },
      "source": [
        "**Data Kosong**"
      ]
    },
    {
      "cell_type": "code",
      "execution_count": null,
      "metadata": {
        "colab": {
          "base_uri": "https://localhost:8080/"
        },
        "id": "Z_5VQHvlH15a",
        "outputId": "c3388e85-b708-402e-9214-fa0efb2aefd1"
      },
      "outputs": [
        {
          "name": "stdout",
          "output_type": "stream",
          "text": [
            "<class 'pandas.core.frame.DataFrame'>\n",
            "RangeIndex: 3755 entries, 0 to 3754\n",
            "Data columns (total 11 columns):\n",
            " #   Column              Non-Null Count  Dtype \n",
            "---  ------              --------------  ----- \n",
            " 0   work_year           3755 non-null   int64 \n",
            " 1   experience_level    3755 non-null   object\n",
            " 2   employment_type     3755 non-null   object\n",
            " 3   job_title           3755 non-null   object\n",
            " 4   salary              3755 non-null   int64 \n",
            " 5   salary_currency     3755 non-null   object\n",
            " 6   salary_in_usd       3755 non-null   int64 \n",
            " 7   employee_residence  3755 non-null   object\n",
            " 8   remote_ratio        3755 non-null   int64 \n",
            " 9   company_location    3755 non-null   object\n",
            " 10  company_size        3755 non-null   object\n",
            "dtypes: int64(4), object(7)\n",
            "memory usage: 322.8+ KB\n",
            "None\n"
          ]
        }
      ],
      "source": [
        "print(df.info()) #mencari data yang kosong"
      ]
    },
    {
      "cell_type": "markdown",
      "metadata": {
        "id": "wziQRZ4dQ2Xq"
      },
      "source": [
        "Keterangan: Tidak ada data yang kosong."
      ]
    },
    {
      "cell_type": "markdown",
      "metadata": {
        "id": "tO1RO2SYQ4-H"
      },
      "source": [
        "#Tugas 5 (Statistik)"
      ]
    },
    {
      "cell_type": "code",
      "execution_count": null,
      "metadata": {
        "colab": {
          "base_uri": "https://localhost:8080/",
          "height": 423
        },
        "id": "HD_60UQRRHjV",
        "outputId": "25d7df58-4ed2-464d-c966-22c5c8ea45dd"
      },
      "outputs": [
        {
          "data": {
            "text/html": [
              "\n",
              "  <div id=\"df-11f8ccc8-9352-4126-a117-4cfad54905db\" class=\"colab-df-container\">\n",
              "    <div>\n",
              "<style scoped>\n",
              "    .dataframe tbody tr th:only-of-type {\n",
              "        vertical-align: middle;\n",
              "    }\n",
              "\n",
              "    .dataframe tbody tr th {\n",
              "        vertical-align: top;\n",
              "    }\n",
              "\n",
              "    .dataframe thead th {\n",
              "        text-align: right;\n",
              "    }\n",
              "</style>\n",
              "<table border=\"1\" class=\"dataframe\">\n",
              "  <thead>\n",
              "    <tr style=\"text-align: right;\">\n",
              "      <th></th>\n",
              "      <th>work_year</th>\n",
              "      <th>experience_level</th>\n",
              "      <th>employment_type</th>\n",
              "      <th>job_title</th>\n",
              "      <th>salary</th>\n",
              "      <th>salary_currency</th>\n",
              "      <th>salary_in_usd</th>\n",
              "      <th>employee_residence</th>\n",
              "      <th>remote_ratio</th>\n",
              "      <th>company_location</th>\n",
              "      <th>company_size</th>\n",
              "    </tr>\n",
              "  </thead>\n",
              "  <tbody>\n",
              "    <tr>\n",
              "      <th>0</th>\n",
              "      <td>2023</td>\n",
              "      <td>SE</td>\n",
              "      <td>FT</td>\n",
              "      <td>Principal Data Scientist</td>\n",
              "      <td>80000</td>\n",
              "      <td>EUR</td>\n",
              "      <td>85847</td>\n",
              "      <td>ES</td>\n",
              "      <td>100</td>\n",
              "      <td>ES</td>\n",
              "      <td>L</td>\n",
              "    </tr>\n",
              "    <tr>\n",
              "      <th>1</th>\n",
              "      <td>2023</td>\n",
              "      <td>MI</td>\n",
              "      <td>CT</td>\n",
              "      <td>ML Engineer</td>\n",
              "      <td>30000</td>\n",
              "      <td>USD</td>\n",
              "      <td>30000</td>\n",
              "      <td>US</td>\n",
              "      <td>100</td>\n",
              "      <td>US</td>\n",
              "      <td>S</td>\n",
              "    </tr>\n",
              "    <tr>\n",
              "      <th>2</th>\n",
              "      <td>2023</td>\n",
              "      <td>MI</td>\n",
              "      <td>CT</td>\n",
              "      <td>ML Engineer</td>\n",
              "      <td>25500</td>\n",
              "      <td>USD</td>\n",
              "      <td>25500</td>\n",
              "      <td>US</td>\n",
              "      <td>100</td>\n",
              "      <td>US</td>\n",
              "      <td>S</td>\n",
              "    </tr>\n",
              "    <tr>\n",
              "      <th>3</th>\n",
              "      <td>2023</td>\n",
              "      <td>SE</td>\n",
              "      <td>FT</td>\n",
              "      <td>Data Scientist</td>\n",
              "      <td>175000</td>\n",
              "      <td>USD</td>\n",
              "      <td>175000</td>\n",
              "      <td>CA</td>\n",
              "      <td>100</td>\n",
              "      <td>CA</td>\n",
              "      <td>M</td>\n",
              "    </tr>\n",
              "    <tr>\n",
              "      <th>4</th>\n",
              "      <td>2023</td>\n",
              "      <td>SE</td>\n",
              "      <td>FT</td>\n",
              "      <td>Data Scientist</td>\n",
              "      <td>120000</td>\n",
              "      <td>USD</td>\n",
              "      <td>120000</td>\n",
              "      <td>CA</td>\n",
              "      <td>100</td>\n",
              "      <td>CA</td>\n",
              "      <td>M</td>\n",
              "    </tr>\n",
              "    <tr>\n",
              "      <th>...</th>\n",
              "      <td>...</td>\n",
              "      <td>...</td>\n",
              "      <td>...</td>\n",
              "      <td>...</td>\n",
              "      <td>...</td>\n",
              "      <td>...</td>\n",
              "      <td>...</td>\n",
              "      <td>...</td>\n",
              "      <td>...</td>\n",
              "      <td>...</td>\n",
              "      <td>...</td>\n",
              "    </tr>\n",
              "    <tr>\n",
              "      <th>3750</th>\n",
              "      <td>2020</td>\n",
              "      <td>SE</td>\n",
              "      <td>FT</td>\n",
              "      <td>Data Scientist</td>\n",
              "      <td>412000</td>\n",
              "      <td>USD</td>\n",
              "      <td>412000</td>\n",
              "      <td>US</td>\n",
              "      <td>100</td>\n",
              "      <td>US</td>\n",
              "      <td>L</td>\n",
              "    </tr>\n",
              "    <tr>\n",
              "      <th>3751</th>\n",
              "      <td>2021</td>\n",
              "      <td>MI</td>\n",
              "      <td>FT</td>\n",
              "      <td>Principal Data Scientist</td>\n",
              "      <td>151000</td>\n",
              "      <td>USD</td>\n",
              "      <td>151000</td>\n",
              "      <td>US</td>\n",
              "      <td>100</td>\n",
              "      <td>US</td>\n",
              "      <td>L</td>\n",
              "    </tr>\n",
              "    <tr>\n",
              "      <th>3752</th>\n",
              "      <td>2020</td>\n",
              "      <td>EN</td>\n",
              "      <td>FT</td>\n",
              "      <td>Data Scientist</td>\n",
              "      <td>105000</td>\n",
              "      <td>USD</td>\n",
              "      <td>105000</td>\n",
              "      <td>US</td>\n",
              "      <td>100</td>\n",
              "      <td>US</td>\n",
              "      <td>S</td>\n",
              "    </tr>\n",
              "    <tr>\n",
              "      <th>3753</th>\n",
              "      <td>2020</td>\n",
              "      <td>EN</td>\n",
              "      <td>CT</td>\n",
              "      <td>Business Data Analyst</td>\n",
              "      <td>100000</td>\n",
              "      <td>USD</td>\n",
              "      <td>100000</td>\n",
              "      <td>US</td>\n",
              "      <td>100</td>\n",
              "      <td>US</td>\n",
              "      <td>L</td>\n",
              "    </tr>\n",
              "    <tr>\n",
              "      <th>3754</th>\n",
              "      <td>2021</td>\n",
              "      <td>SE</td>\n",
              "      <td>FT</td>\n",
              "      <td>Data Science Manager</td>\n",
              "      <td>7000000</td>\n",
              "      <td>INR</td>\n",
              "      <td>94665</td>\n",
              "      <td>IN</td>\n",
              "      <td>50</td>\n",
              "      <td>IN</td>\n",
              "      <td>L</td>\n",
              "    </tr>\n",
              "  </tbody>\n",
              "</table>\n",
              "<p>3755 rows × 11 columns</p>\n",
              "</div>\n",
              "    <div class=\"colab-df-buttons\">\n",
              "\n",
              "  <div class=\"colab-df-container\">\n",
              "    <button class=\"colab-df-convert\" onclick=\"convertToInteractive('df-11f8ccc8-9352-4126-a117-4cfad54905db')\"\n",
              "            title=\"Convert this dataframe to an interactive table.\"\n",
              "            style=\"display:none;\">\n",
              "\n",
              "  <svg xmlns=\"http://www.w3.org/2000/svg\" height=\"24px\" viewBox=\"0 -960 960 960\">\n",
              "    <path d=\"M120-120v-720h720v720H120Zm60-500h600v-160H180v160Zm220 220h160v-160H400v160Zm0 220h160v-160H400v160ZM180-400h160v-160H180v160Zm440 0h160v-160H620v160ZM180-180h160v-160H180v160Zm440 0h160v-160H620v160Z\"/>\n",
              "  </svg>\n",
              "    </button>\n",
              "\n",
              "  <style>\n",
              "    .colab-df-container {\n",
              "      display:flex;\n",
              "      gap: 12px;\n",
              "    }\n",
              "\n",
              "    .colab-df-convert {\n",
              "      background-color: #E8F0FE;\n",
              "      border: none;\n",
              "      border-radius: 50%;\n",
              "      cursor: pointer;\n",
              "      display: none;\n",
              "      fill: #1967D2;\n",
              "      height: 32px;\n",
              "      padding: 0 0 0 0;\n",
              "      width: 32px;\n",
              "    }\n",
              "\n",
              "    .colab-df-convert:hover {\n",
              "      background-color: #E2EBFA;\n",
              "      box-shadow: 0px 1px 2px rgba(60, 64, 67, 0.3), 0px 1px 3px 1px rgba(60, 64, 67, 0.15);\n",
              "      fill: #174EA6;\n",
              "    }\n",
              "\n",
              "    .colab-df-buttons div {\n",
              "      margin-bottom: 4px;\n",
              "    }\n",
              "\n",
              "    [theme=dark] .colab-df-convert {\n",
              "      background-color: #3B4455;\n",
              "      fill: #D2E3FC;\n",
              "    }\n",
              "\n",
              "    [theme=dark] .colab-df-convert:hover {\n",
              "      background-color: #434B5C;\n",
              "      box-shadow: 0px 1px 3px 1px rgba(0, 0, 0, 0.15);\n",
              "      filter: drop-shadow(0px 1px 2px rgba(0, 0, 0, 0.3));\n",
              "      fill: #FFFFFF;\n",
              "    }\n",
              "  </style>\n",
              "\n",
              "    <script>\n",
              "      const buttonEl =\n",
              "        document.querySelector('#df-11f8ccc8-9352-4126-a117-4cfad54905db button.colab-df-convert');\n",
              "      buttonEl.style.display =\n",
              "        google.colab.kernel.accessAllowed ? 'block' : 'none';\n",
              "\n",
              "      async function convertToInteractive(key) {\n",
              "        const element = document.querySelector('#df-11f8ccc8-9352-4126-a117-4cfad54905db');\n",
              "        const dataTable =\n",
              "          await google.colab.kernel.invokeFunction('convertToInteractive',\n",
              "                                                    [key], {});\n",
              "        if (!dataTable) return;\n",
              "\n",
              "        const docLinkHtml = 'Like what you see? Visit the ' +\n",
              "          '<a target=\"_blank\" href=https://colab.research.google.com/notebooks/data_table.ipynb>data table notebook</a>'\n",
              "          + ' to learn more about interactive tables.';\n",
              "        element.innerHTML = '';\n",
              "        dataTable['output_type'] = 'display_data';\n",
              "        await google.colab.output.renderOutput(dataTable, element);\n",
              "        const docLink = document.createElement('div');\n",
              "        docLink.innerHTML = docLinkHtml;\n",
              "        element.appendChild(docLink);\n",
              "      }\n",
              "    </script>\n",
              "  </div>\n",
              "\n",
              "\n",
              "<div id=\"df-0604c384-c9ce-43ab-b979-2a770528034b\">\n",
              "  <button class=\"colab-df-quickchart\" onclick=\"quickchart('df-0604c384-c9ce-43ab-b979-2a770528034b')\"\n",
              "            title=\"Suggest charts\"\n",
              "            style=\"display:none;\">\n",
              "\n",
              "<svg xmlns=\"http://www.w3.org/2000/svg\" height=\"24px\"viewBox=\"0 0 24 24\"\n",
              "     width=\"24px\">\n",
              "    <g>\n",
              "        <path d=\"M19 3H5c-1.1 0-2 .9-2 2v14c0 1.1.9 2 2 2h14c1.1 0 2-.9 2-2V5c0-1.1-.9-2-2-2zM9 17H7v-7h2v7zm4 0h-2V7h2v10zm4 0h-2v-4h2v4z\"/>\n",
              "    </g>\n",
              "</svg>\n",
              "  </button>\n",
              "\n",
              "<style>\n",
              "  .colab-df-quickchart {\n",
              "      --bg-color: #E8F0FE;\n",
              "      --fill-color: #1967D2;\n",
              "      --hover-bg-color: #E2EBFA;\n",
              "      --hover-fill-color: #174EA6;\n",
              "      --disabled-fill-color: #AAA;\n",
              "      --disabled-bg-color: #DDD;\n",
              "  }\n",
              "\n",
              "  [theme=dark] .colab-df-quickchart {\n",
              "      --bg-color: #3B4455;\n",
              "      --fill-color: #D2E3FC;\n",
              "      --hover-bg-color: #434B5C;\n",
              "      --hover-fill-color: #FFFFFF;\n",
              "      --disabled-bg-color: #3B4455;\n",
              "      --disabled-fill-color: #666;\n",
              "  }\n",
              "\n",
              "  .colab-df-quickchart {\n",
              "    background-color: var(--bg-color);\n",
              "    border: none;\n",
              "    border-radius: 50%;\n",
              "    cursor: pointer;\n",
              "    display: none;\n",
              "    fill: var(--fill-color);\n",
              "    height: 32px;\n",
              "    padding: 0;\n",
              "    width: 32px;\n",
              "  }\n",
              "\n",
              "  .colab-df-quickchart:hover {\n",
              "    background-color: var(--hover-bg-color);\n",
              "    box-shadow: 0 1px 2px rgba(60, 64, 67, 0.3), 0 1px 3px 1px rgba(60, 64, 67, 0.15);\n",
              "    fill: var(--button-hover-fill-color);\n",
              "  }\n",
              "\n",
              "  .colab-df-quickchart-complete:disabled,\n",
              "  .colab-df-quickchart-complete:disabled:hover {\n",
              "    background-color: var(--disabled-bg-color);\n",
              "    fill: var(--disabled-fill-color);\n",
              "    box-shadow: none;\n",
              "  }\n",
              "\n",
              "  .colab-df-spinner {\n",
              "    border: 2px solid var(--fill-color);\n",
              "    border-color: transparent;\n",
              "    border-bottom-color: var(--fill-color);\n",
              "    animation:\n",
              "      spin 1s steps(1) infinite;\n",
              "  }\n",
              "\n",
              "  @keyframes spin {\n",
              "    0% {\n",
              "      border-color: transparent;\n",
              "      border-bottom-color: var(--fill-color);\n",
              "      border-left-color: var(--fill-color);\n",
              "    }\n",
              "    20% {\n",
              "      border-color: transparent;\n",
              "      border-left-color: var(--fill-color);\n",
              "      border-top-color: var(--fill-color);\n",
              "    }\n",
              "    30% {\n",
              "      border-color: transparent;\n",
              "      border-left-color: var(--fill-color);\n",
              "      border-top-color: var(--fill-color);\n",
              "      border-right-color: var(--fill-color);\n",
              "    }\n",
              "    40% {\n",
              "      border-color: transparent;\n",
              "      border-right-color: var(--fill-color);\n",
              "      border-top-color: var(--fill-color);\n",
              "    }\n",
              "    60% {\n",
              "      border-color: transparent;\n",
              "      border-right-color: var(--fill-color);\n",
              "    }\n",
              "    80% {\n",
              "      border-color: transparent;\n",
              "      border-right-color: var(--fill-color);\n",
              "      border-bottom-color: var(--fill-color);\n",
              "    }\n",
              "    90% {\n",
              "      border-color: transparent;\n",
              "      border-bottom-color: var(--fill-color);\n",
              "    }\n",
              "  }\n",
              "</style>\n",
              "\n",
              "  <script>\n",
              "    async function quickchart(key) {\n",
              "      const quickchartButtonEl =\n",
              "        document.querySelector('#' + key + ' button');\n",
              "      quickchartButtonEl.disabled = true;  // To prevent multiple clicks.\n",
              "      quickchartButtonEl.classList.add('colab-df-spinner');\n",
              "      try {\n",
              "        const charts = await google.colab.kernel.invokeFunction(\n",
              "            'suggestCharts', [key], {});\n",
              "      } catch (error) {\n",
              "        console.error('Error during call to suggestCharts:', error);\n",
              "      }\n",
              "      quickchartButtonEl.classList.remove('colab-df-spinner');\n",
              "      quickchartButtonEl.classList.add('colab-df-quickchart-complete');\n",
              "    }\n",
              "    (() => {\n",
              "      let quickchartButtonEl =\n",
              "        document.querySelector('#df-0604c384-c9ce-43ab-b979-2a770528034b button');\n",
              "      quickchartButtonEl.style.display =\n",
              "        google.colab.kernel.accessAllowed ? 'block' : 'none';\n",
              "    })();\n",
              "  </script>\n",
              "</div>\n",
              "    </div>\n",
              "  </div>\n"
            ],
            "text/plain": [
              "      work_year experience_level employment_type                 job_title  \\\n",
              "0          2023               SE              FT  Principal Data Scientist   \n",
              "1          2023               MI              CT               ML Engineer   \n",
              "2          2023               MI              CT               ML Engineer   \n",
              "3          2023               SE              FT            Data Scientist   \n",
              "4          2023               SE              FT            Data Scientist   \n",
              "...         ...              ...             ...                       ...   \n",
              "3750       2020               SE              FT            Data Scientist   \n",
              "3751       2021               MI              FT  Principal Data Scientist   \n",
              "3752       2020               EN              FT            Data Scientist   \n",
              "3753       2020               EN              CT     Business Data Analyst   \n",
              "3754       2021               SE              FT      Data Science Manager   \n",
              "\n",
              "       salary salary_currency  salary_in_usd employee_residence  remote_ratio  \\\n",
              "0       80000             EUR          85847                 ES           100   \n",
              "1       30000             USD          30000                 US           100   \n",
              "2       25500             USD          25500                 US           100   \n",
              "3      175000             USD         175000                 CA           100   \n",
              "4      120000             USD         120000                 CA           100   \n",
              "...       ...             ...            ...                ...           ...   \n",
              "3750   412000             USD         412000                 US           100   \n",
              "3751   151000             USD         151000                 US           100   \n",
              "3752   105000             USD         105000                 US           100   \n",
              "3753   100000             USD         100000                 US           100   \n",
              "3754  7000000             INR          94665                 IN            50   \n",
              "\n",
              "     company_location company_size  \n",
              "0                  ES            L  \n",
              "1                  US            S  \n",
              "2                  US            S  \n",
              "3                  CA            M  \n",
              "4                  CA            M  \n",
              "...               ...          ...  \n",
              "3750               US            L  \n",
              "3751               US            L  \n",
              "3752               US            S  \n",
              "3753               US            L  \n",
              "3754               IN            L  \n",
              "\n",
              "[3755 rows x 11 columns]"
            ]
          },
          "execution_count": 26,
          "metadata": {},
          "output_type": "execute_result"
        }
      ],
      "source": [
        "df #sampel data pada baris pertama dan terakhir bentuk 1"
      ]
    },
    {
      "cell_type": "code",
      "execution_count": null,
      "metadata": {
        "colab": {
          "base_uri": "https://localhost:8080/"
        },
        "id": "mB2ZOhVyQ6QS",
        "outputId": "006f0772-e9fc-403c-cf62-7e3f8150b812"
      },
      "outputs": [
        {
          "name": "stdout",
          "output_type": "stream",
          "text": [
            "<bound method NDFrame.head of       work_year experience_level employment_type                 job_title  \\\n",
            "0          2023               SE              FT  Principal Data Scientist   \n",
            "1          2023               MI              CT               ML Engineer   \n",
            "2          2023               MI              CT               ML Engineer   \n",
            "3          2023               SE              FT            Data Scientist   \n",
            "4          2023               SE              FT            Data Scientist   \n",
            "...         ...              ...             ...                       ...   \n",
            "3750       2020               SE              FT            Data Scientist   \n",
            "3751       2021               MI              FT  Principal Data Scientist   \n",
            "3752       2020               EN              FT            Data Scientist   \n",
            "3753       2020               EN              CT     Business Data Analyst   \n",
            "3754       2021               SE              FT      Data Science Manager   \n",
            "\n",
            "       salary salary_currency  salary_in_usd employee_residence  remote_ratio  \\\n",
            "0       80000             EUR          85847                 ES           100   \n",
            "1       30000             USD          30000                 US           100   \n",
            "2       25500             USD          25500                 US           100   \n",
            "3      175000             USD         175000                 CA           100   \n",
            "4      120000             USD         120000                 CA           100   \n",
            "...       ...             ...            ...                ...           ...   \n",
            "3750   412000             USD         412000                 US           100   \n",
            "3751   151000             USD         151000                 US           100   \n",
            "3752   105000             USD         105000                 US           100   \n",
            "3753   100000             USD         100000                 US           100   \n",
            "3754  7000000             INR          94665                 IN            50   \n",
            "\n",
            "     company_location company_size  \n",
            "0                  ES            L  \n",
            "1                  US            S  \n",
            "2                  US            S  \n",
            "3                  CA            M  \n",
            "4                  CA            M  \n",
            "...               ...          ...  \n",
            "3750               US            L  \n",
            "3751               US            L  \n",
            "3752               US            S  \n",
            "3753               US            L  \n",
            "3754               IN            L  \n",
            "\n",
            "[3755 rows x 11 columns]>\n"
          ]
        }
      ],
      "source": [
        "print(df.head) #sampel data pada baris pertama dan terakhir bentuk 2"
      ]
    },
    {
      "cell_type": "markdown",
      "metadata": {
        "id": "l5SGeKMqRl-Q"
      },
      "source": [
        "**Sampel Data 2: Pengurutan Data (dari yang terkecil ke terbesar/increase)**"
      ]
    },
    {
      "cell_type": "code",
      "execution_count": null,
      "metadata": {
        "colab": {
          "base_uri": "https://localhost:8080/",
          "height": 423
        },
        "id": "swqPa1e3Ra0G",
        "outputId": "c56981db-728e-4155-f504-22bd404a7fc6"
      },
      "outputs": [
        {
          "data": {
            "text/html": [
              "\n",
              "  <div id=\"df-e1f95cda-8a6b-44f2-a54f-bfb1b223a145\" class=\"colab-df-container\">\n",
              "    <div>\n",
              "<style scoped>\n",
              "    .dataframe tbody tr th:only-of-type {\n",
              "        vertical-align: middle;\n",
              "    }\n",
              "\n",
              "    .dataframe tbody tr th {\n",
              "        vertical-align: top;\n",
              "    }\n",
              "\n",
              "    .dataframe thead th {\n",
              "        text-align: right;\n",
              "    }\n",
              "</style>\n",
              "<table border=\"1\" class=\"dataframe\">\n",
              "  <thead>\n",
              "    <tr style=\"text-align: right;\">\n",
              "      <th></th>\n",
              "      <th>work_year</th>\n",
              "      <th>experience_level</th>\n",
              "      <th>employment_type</th>\n",
              "      <th>job_title</th>\n",
              "      <th>salary</th>\n",
              "      <th>salary_currency</th>\n",
              "      <th>salary_in_usd</th>\n",
              "      <th>employee_residence</th>\n",
              "      <th>remote_ratio</th>\n",
              "      <th>company_location</th>\n",
              "      <th>company_size</th>\n",
              "    </tr>\n",
              "  </thead>\n",
              "  <tbody>\n",
              "    <tr>\n",
              "      <th>3576</th>\n",
              "      <td>2020</td>\n",
              "      <td>EN</td>\n",
              "      <td>PT</td>\n",
              "      <td>ML Engineer</td>\n",
              "      <td>14000</td>\n",
              "      <td>EUR</td>\n",
              "      <td>15966</td>\n",
              "      <td>DE</td>\n",
              "      <td>100</td>\n",
              "      <td>DE</td>\n",
              "      <td>S</td>\n",
              "    </tr>\n",
              "    <tr>\n",
              "      <th>3681</th>\n",
              "      <td>2020</td>\n",
              "      <td>MI</td>\n",
              "      <td>FT</td>\n",
              "      <td>Data Analyst</td>\n",
              "      <td>8000</td>\n",
              "      <td>USD</td>\n",
              "      <td>8000</td>\n",
              "      <td>PK</td>\n",
              "      <td>50</td>\n",
              "      <td>PK</td>\n",
              "      <td>L</td>\n",
              "    </tr>\n",
              "    <tr>\n",
              "      <th>3682</th>\n",
              "      <td>2020</td>\n",
              "      <td>EN</td>\n",
              "      <td>FT</td>\n",
              "      <td>Data Engineer</td>\n",
              "      <td>4450000</td>\n",
              "      <td>JPY</td>\n",
              "      <td>41689</td>\n",
              "      <td>JP</td>\n",
              "      <td>100</td>\n",
              "      <td>JP</td>\n",
              "      <td>S</td>\n",
              "    </tr>\n",
              "    <tr>\n",
              "      <th>3683</th>\n",
              "      <td>2020</td>\n",
              "      <td>SE</td>\n",
              "      <td>FT</td>\n",
              "      <td>Big Data Engineer</td>\n",
              "      <td>100000</td>\n",
              "      <td>EUR</td>\n",
              "      <td>114047</td>\n",
              "      <td>PL</td>\n",
              "      <td>100</td>\n",
              "      <td>GB</td>\n",
              "      <td>S</td>\n",
              "    </tr>\n",
              "    <tr>\n",
              "      <th>3549</th>\n",
              "      <td>2020</td>\n",
              "      <td>EN</td>\n",
              "      <td>FT</td>\n",
              "      <td>Machine Learning Engineer</td>\n",
              "      <td>138000</td>\n",
              "      <td>USD</td>\n",
              "      <td>138000</td>\n",
              "      <td>US</td>\n",
              "      <td>100</td>\n",
              "      <td>US</td>\n",
              "      <td>S</td>\n",
              "    </tr>\n",
              "    <tr>\n",
              "      <th>...</th>\n",
              "      <td>...</td>\n",
              "      <td>...</td>\n",
              "      <td>...</td>\n",
              "      <td>...</td>\n",
              "      <td>...</td>\n",
              "      <td>...</td>\n",
              "      <td>...</td>\n",
              "      <td>...</td>\n",
              "      <td>...</td>\n",
              "      <td>...</td>\n",
              "      <td>...</td>\n",
              "    </tr>\n",
              "    <tr>\n",
              "      <th>1211</th>\n",
              "      <td>2023</td>\n",
              "      <td>SE</td>\n",
              "      <td>FT</td>\n",
              "      <td>Data Engineer</td>\n",
              "      <td>230000</td>\n",
              "      <td>USD</td>\n",
              "      <td>230000</td>\n",
              "      <td>US</td>\n",
              "      <td>0</td>\n",
              "      <td>US</td>\n",
              "      <td>M</td>\n",
              "    </tr>\n",
              "    <tr>\n",
              "      <th>1212</th>\n",
              "      <td>2023</td>\n",
              "      <td>SE</td>\n",
              "      <td>FT</td>\n",
              "      <td>Data Engineer</td>\n",
              "      <td>170000</td>\n",
              "      <td>USD</td>\n",
              "      <td>170000</td>\n",
              "      <td>US</td>\n",
              "      <td>0</td>\n",
              "      <td>US</td>\n",
              "      <td>M</td>\n",
              "    </tr>\n",
              "    <tr>\n",
              "      <th>1213</th>\n",
              "      <td>2023</td>\n",
              "      <td>SE</td>\n",
              "      <td>FT</td>\n",
              "      <td>Data Analyst</td>\n",
              "      <td>227000</td>\n",
              "      <td>USD</td>\n",
              "      <td>227000</td>\n",
              "      <td>US</td>\n",
              "      <td>0</td>\n",
              "      <td>US</td>\n",
              "      <td>M</td>\n",
              "    </tr>\n",
              "    <tr>\n",
              "      <th>1357</th>\n",
              "      <td>2023</td>\n",
              "      <td>SE</td>\n",
              "      <td>FT</td>\n",
              "      <td>Data Engineer</td>\n",
              "      <td>133300</td>\n",
              "      <td>USD</td>\n",
              "      <td>133300</td>\n",
              "      <td>US</td>\n",
              "      <td>0</td>\n",
              "      <td>US</td>\n",
              "      <td>M</td>\n",
              "    </tr>\n",
              "    <tr>\n",
              "      <th>0</th>\n",
              "      <td>2023</td>\n",
              "      <td>SE</td>\n",
              "      <td>FT</td>\n",
              "      <td>Principal Data Scientist</td>\n",
              "      <td>80000</td>\n",
              "      <td>EUR</td>\n",
              "      <td>85847</td>\n",
              "      <td>ES</td>\n",
              "      <td>100</td>\n",
              "      <td>ES</td>\n",
              "      <td>L</td>\n",
              "    </tr>\n",
              "  </tbody>\n",
              "</table>\n",
              "<p>3755 rows × 11 columns</p>\n",
              "</div>\n",
              "    <div class=\"colab-df-buttons\">\n",
              "\n",
              "  <div class=\"colab-df-container\">\n",
              "    <button class=\"colab-df-convert\" onclick=\"convertToInteractive('df-e1f95cda-8a6b-44f2-a54f-bfb1b223a145')\"\n",
              "            title=\"Convert this dataframe to an interactive table.\"\n",
              "            style=\"display:none;\">\n",
              "\n",
              "  <svg xmlns=\"http://www.w3.org/2000/svg\" height=\"24px\" viewBox=\"0 -960 960 960\">\n",
              "    <path d=\"M120-120v-720h720v720H120Zm60-500h600v-160H180v160Zm220 220h160v-160H400v160Zm0 220h160v-160H400v160ZM180-400h160v-160H180v160Zm440 0h160v-160H620v160ZM180-180h160v-160H180v160Zm440 0h160v-160H620v160Z\"/>\n",
              "  </svg>\n",
              "    </button>\n",
              "\n",
              "  <style>\n",
              "    .colab-df-container {\n",
              "      display:flex;\n",
              "      gap: 12px;\n",
              "    }\n",
              "\n",
              "    .colab-df-convert {\n",
              "      background-color: #E8F0FE;\n",
              "      border: none;\n",
              "      border-radius: 50%;\n",
              "      cursor: pointer;\n",
              "      display: none;\n",
              "      fill: #1967D2;\n",
              "      height: 32px;\n",
              "      padding: 0 0 0 0;\n",
              "      width: 32px;\n",
              "    }\n",
              "\n",
              "    .colab-df-convert:hover {\n",
              "      background-color: #E2EBFA;\n",
              "      box-shadow: 0px 1px 2px rgba(60, 64, 67, 0.3), 0px 1px 3px 1px rgba(60, 64, 67, 0.15);\n",
              "      fill: #174EA6;\n",
              "    }\n",
              "\n",
              "    .colab-df-buttons div {\n",
              "      margin-bottom: 4px;\n",
              "    }\n",
              "\n",
              "    [theme=dark] .colab-df-convert {\n",
              "      background-color: #3B4455;\n",
              "      fill: #D2E3FC;\n",
              "    }\n",
              "\n",
              "    [theme=dark] .colab-df-convert:hover {\n",
              "      background-color: #434B5C;\n",
              "      box-shadow: 0px 1px 3px 1px rgba(0, 0, 0, 0.15);\n",
              "      filter: drop-shadow(0px 1px 2px rgba(0, 0, 0, 0.3));\n",
              "      fill: #FFFFFF;\n",
              "    }\n",
              "  </style>\n",
              "\n",
              "    <script>\n",
              "      const buttonEl =\n",
              "        document.querySelector('#df-e1f95cda-8a6b-44f2-a54f-bfb1b223a145 button.colab-df-convert');\n",
              "      buttonEl.style.display =\n",
              "        google.colab.kernel.accessAllowed ? 'block' : 'none';\n",
              "\n",
              "      async function convertToInteractive(key) {\n",
              "        const element = document.querySelector('#df-e1f95cda-8a6b-44f2-a54f-bfb1b223a145');\n",
              "        const dataTable =\n",
              "          await google.colab.kernel.invokeFunction('convertToInteractive',\n",
              "                                                    [key], {});\n",
              "        if (!dataTable) return;\n",
              "\n",
              "        const docLinkHtml = 'Like what you see? Visit the ' +\n",
              "          '<a target=\"_blank\" href=https://colab.research.google.com/notebooks/data_table.ipynb>data table notebook</a>'\n",
              "          + ' to learn more about interactive tables.';\n",
              "        element.innerHTML = '';\n",
              "        dataTable['output_type'] = 'display_data';\n",
              "        await google.colab.output.renderOutput(dataTable, element);\n",
              "        const docLink = document.createElement('div');\n",
              "        docLink.innerHTML = docLinkHtml;\n",
              "        element.appendChild(docLink);\n",
              "      }\n",
              "    </script>\n",
              "  </div>\n",
              "\n",
              "\n",
              "<div id=\"df-469d703a-8f42-49eb-a135-b5f72c79abf3\">\n",
              "  <button class=\"colab-df-quickchart\" onclick=\"quickchart('df-469d703a-8f42-49eb-a135-b5f72c79abf3')\"\n",
              "            title=\"Suggest charts\"\n",
              "            style=\"display:none;\">\n",
              "\n",
              "<svg xmlns=\"http://www.w3.org/2000/svg\" height=\"24px\"viewBox=\"0 0 24 24\"\n",
              "     width=\"24px\">\n",
              "    <g>\n",
              "        <path d=\"M19 3H5c-1.1 0-2 .9-2 2v14c0 1.1.9 2 2 2h14c1.1 0 2-.9 2-2V5c0-1.1-.9-2-2-2zM9 17H7v-7h2v7zm4 0h-2V7h2v10zm4 0h-2v-4h2v4z\"/>\n",
              "    </g>\n",
              "</svg>\n",
              "  </button>\n",
              "\n",
              "<style>\n",
              "  .colab-df-quickchart {\n",
              "      --bg-color: #E8F0FE;\n",
              "      --fill-color: #1967D2;\n",
              "      --hover-bg-color: #E2EBFA;\n",
              "      --hover-fill-color: #174EA6;\n",
              "      --disabled-fill-color: #AAA;\n",
              "      --disabled-bg-color: #DDD;\n",
              "  }\n",
              "\n",
              "  [theme=dark] .colab-df-quickchart {\n",
              "      --bg-color: #3B4455;\n",
              "      --fill-color: #D2E3FC;\n",
              "      --hover-bg-color: #434B5C;\n",
              "      --hover-fill-color: #FFFFFF;\n",
              "      --disabled-bg-color: #3B4455;\n",
              "      --disabled-fill-color: #666;\n",
              "  }\n",
              "\n",
              "  .colab-df-quickchart {\n",
              "    background-color: var(--bg-color);\n",
              "    border: none;\n",
              "    border-radius: 50%;\n",
              "    cursor: pointer;\n",
              "    display: none;\n",
              "    fill: var(--fill-color);\n",
              "    height: 32px;\n",
              "    padding: 0;\n",
              "    width: 32px;\n",
              "  }\n",
              "\n",
              "  .colab-df-quickchart:hover {\n",
              "    background-color: var(--hover-bg-color);\n",
              "    box-shadow: 0 1px 2px rgba(60, 64, 67, 0.3), 0 1px 3px 1px rgba(60, 64, 67, 0.15);\n",
              "    fill: var(--button-hover-fill-color);\n",
              "  }\n",
              "\n",
              "  .colab-df-quickchart-complete:disabled,\n",
              "  .colab-df-quickchart-complete:disabled:hover {\n",
              "    background-color: var(--disabled-bg-color);\n",
              "    fill: var(--disabled-fill-color);\n",
              "    box-shadow: none;\n",
              "  }\n",
              "\n",
              "  .colab-df-spinner {\n",
              "    border: 2px solid var(--fill-color);\n",
              "    border-color: transparent;\n",
              "    border-bottom-color: var(--fill-color);\n",
              "    animation:\n",
              "      spin 1s steps(1) infinite;\n",
              "  }\n",
              "\n",
              "  @keyframes spin {\n",
              "    0% {\n",
              "      border-color: transparent;\n",
              "      border-bottom-color: var(--fill-color);\n",
              "      border-left-color: var(--fill-color);\n",
              "    }\n",
              "    20% {\n",
              "      border-color: transparent;\n",
              "      border-left-color: var(--fill-color);\n",
              "      border-top-color: var(--fill-color);\n",
              "    }\n",
              "    30% {\n",
              "      border-color: transparent;\n",
              "      border-left-color: var(--fill-color);\n",
              "      border-top-color: var(--fill-color);\n",
              "      border-right-color: var(--fill-color);\n",
              "    }\n",
              "    40% {\n",
              "      border-color: transparent;\n",
              "      border-right-color: var(--fill-color);\n",
              "      border-top-color: var(--fill-color);\n",
              "    }\n",
              "    60% {\n",
              "      border-color: transparent;\n",
              "      border-right-color: var(--fill-color);\n",
              "    }\n",
              "    80% {\n",
              "      border-color: transparent;\n",
              "      border-right-color: var(--fill-color);\n",
              "      border-bottom-color: var(--fill-color);\n",
              "    }\n",
              "    90% {\n",
              "      border-color: transparent;\n",
              "      border-bottom-color: var(--fill-color);\n",
              "    }\n",
              "  }\n",
              "</style>\n",
              "\n",
              "  <script>\n",
              "    async function quickchart(key) {\n",
              "      const quickchartButtonEl =\n",
              "        document.querySelector('#' + key + ' button');\n",
              "      quickchartButtonEl.disabled = true;  // To prevent multiple clicks.\n",
              "      quickchartButtonEl.classList.add('colab-df-spinner');\n",
              "      try {\n",
              "        const charts = await google.colab.kernel.invokeFunction(\n",
              "            'suggestCharts', [key], {});\n",
              "      } catch (error) {\n",
              "        console.error('Error during call to suggestCharts:', error);\n",
              "      }\n",
              "      quickchartButtonEl.classList.remove('colab-df-spinner');\n",
              "      quickchartButtonEl.classList.add('colab-df-quickchart-complete');\n",
              "    }\n",
              "    (() => {\n",
              "      let quickchartButtonEl =\n",
              "        document.querySelector('#df-469d703a-8f42-49eb-a135-b5f72c79abf3 button');\n",
              "      quickchartButtonEl.style.display =\n",
              "        google.colab.kernel.accessAllowed ? 'block' : 'none';\n",
              "    })();\n",
              "  </script>\n",
              "</div>\n",
              "    </div>\n",
              "  </div>\n"
            ],
            "text/plain": [
              "      work_year experience_level employment_type                  job_title  \\\n",
              "3576       2020               EN              PT                ML Engineer   \n",
              "3681       2020               MI              FT               Data Analyst   \n",
              "3682       2020               EN              FT              Data Engineer   \n",
              "3683       2020               SE              FT          Big Data Engineer   \n",
              "3549       2020               EN              FT  Machine Learning Engineer   \n",
              "...         ...              ...             ...                        ...   \n",
              "1211       2023               SE              FT              Data Engineer   \n",
              "1212       2023               SE              FT              Data Engineer   \n",
              "1213       2023               SE              FT               Data Analyst   \n",
              "1357       2023               SE              FT              Data Engineer   \n",
              "0          2023               SE              FT   Principal Data Scientist   \n",
              "\n",
              "       salary salary_currency  salary_in_usd employee_residence  remote_ratio  \\\n",
              "3576    14000             EUR          15966                 DE           100   \n",
              "3681     8000             USD           8000                 PK            50   \n",
              "3682  4450000             JPY          41689                 JP           100   \n",
              "3683   100000             EUR         114047                 PL           100   \n",
              "3549   138000             USD         138000                 US           100   \n",
              "...       ...             ...            ...                ...           ...   \n",
              "1211   230000             USD         230000                 US             0   \n",
              "1212   170000             USD         170000                 US             0   \n",
              "1213   227000             USD         227000                 US             0   \n",
              "1357   133300             USD         133300                 US             0   \n",
              "0       80000             EUR          85847                 ES           100   \n",
              "\n",
              "     company_location company_size  \n",
              "3576               DE            S  \n",
              "3681               PK            L  \n",
              "3682               JP            S  \n",
              "3683               GB            S  \n",
              "3549               US            S  \n",
              "...               ...          ...  \n",
              "1211               US            M  \n",
              "1212               US            M  \n",
              "1213               US            M  \n",
              "1357               US            M  \n",
              "0                  ES            L  \n",
              "\n",
              "[3755 rows x 11 columns]"
            ]
          },
          "execution_count": 28,
          "metadata": {},
          "output_type": "execute_result"
        }
      ],
      "source": [
        "df.sort_values([\"work_year\"], ascending=[1]) #urutan data berdasarkan work_year"
      ]
    },
    {
      "cell_type": "code",
      "execution_count": null,
      "metadata": {
        "colab": {
          "base_uri": "https://localhost:8080/",
          "height": 423
        },
        "id": "2QUbNp6NSs4i",
        "outputId": "46e6d9ba-1932-4b93-b6f1-cdbbfe0bcd2f"
      },
      "outputs": [
        {
          "data": {
            "text/html": [
              "\n",
              "  <div id=\"df-943c8dab-b172-403c-b3fd-106c539e971b\" class=\"colab-df-container\">\n",
              "    <div>\n",
              "<style scoped>\n",
              "    .dataframe tbody tr th:only-of-type {\n",
              "        vertical-align: middle;\n",
              "    }\n",
              "\n",
              "    .dataframe tbody tr th {\n",
              "        vertical-align: top;\n",
              "    }\n",
              "\n",
              "    .dataframe thead th {\n",
              "        text-align: right;\n",
              "    }\n",
              "</style>\n",
              "<table border=\"1\" class=\"dataframe\">\n",
              "  <thead>\n",
              "    <tr style=\"text-align: right;\">\n",
              "      <th></th>\n",
              "      <th>work_year</th>\n",
              "      <th>experience_level</th>\n",
              "      <th>employment_type</th>\n",
              "      <th>job_title</th>\n",
              "      <th>salary</th>\n",
              "      <th>salary_currency</th>\n",
              "      <th>salary_in_usd</th>\n",
              "      <th>employee_residence</th>\n",
              "      <th>remote_ratio</th>\n",
              "      <th>company_location</th>\n",
              "      <th>company_size</th>\n",
              "    </tr>\n",
              "  </thead>\n",
              "  <tbody>\n",
              "    <tr>\n",
              "      <th>1548</th>\n",
              "      <td>2022</td>\n",
              "      <td>EN</td>\n",
              "      <td>FT</td>\n",
              "      <td>AI Developer</td>\n",
              "      <td>6000</td>\n",
              "      <td>EUR</td>\n",
              "      <td>6304</td>\n",
              "      <td>MK</td>\n",
              "      <td>0</td>\n",
              "      <td>MK</td>\n",
              "      <td>S</td>\n",
              "    </tr>\n",
              "    <tr>\n",
              "      <th>573</th>\n",
              "      <td>2023</td>\n",
              "      <td>EN</td>\n",
              "      <td>FT</td>\n",
              "      <td>Autonomous Vehicle Technician</td>\n",
              "      <td>7000</td>\n",
              "      <td>USD</td>\n",
              "      <td>7000</td>\n",
              "      <td>GH</td>\n",
              "      <td>0</td>\n",
              "      <td>GH</td>\n",
              "      <td>S</td>\n",
              "    </tr>\n",
              "    <tr>\n",
              "      <th>2933</th>\n",
              "      <td>2022</td>\n",
              "      <td>MI</td>\n",
              "      <td>CT</td>\n",
              "      <td>Analytics Engineer</td>\n",
              "      <td>7500</td>\n",
              "      <td>USD</td>\n",
              "      <td>7500</td>\n",
              "      <td>BO</td>\n",
              "      <td>50</td>\n",
              "      <td>BO</td>\n",
              "      <td>M</td>\n",
              "    </tr>\n",
              "    <tr>\n",
              "      <th>3681</th>\n",
              "      <td>2020</td>\n",
              "      <td>MI</td>\n",
              "      <td>FT</td>\n",
              "      <td>Data Analyst</td>\n",
              "      <td>8000</td>\n",
              "      <td>USD</td>\n",
              "      <td>8000</td>\n",
              "      <td>PK</td>\n",
              "      <td>50</td>\n",
              "      <td>PK</td>\n",
              "      <td>L</td>\n",
              "    </tr>\n",
              "    <tr>\n",
              "      <th>2589</th>\n",
              "      <td>2022</td>\n",
              "      <td>SE</td>\n",
              "      <td>FT</td>\n",
              "      <td>Product Data Scientist</td>\n",
              "      <td>8000</td>\n",
              "      <td>USD</td>\n",
              "      <td>8000</td>\n",
              "      <td>IN</td>\n",
              "      <td>100</td>\n",
              "      <td>SG</td>\n",
              "      <td>L</td>\n",
              "    </tr>\n",
              "    <tr>\n",
              "      <th>...</th>\n",
              "      <td>...</td>\n",
              "      <td>...</td>\n",
              "      <td>...</td>\n",
              "      <td>...</td>\n",
              "      <td>...</td>\n",
              "      <td>...</td>\n",
              "      <td>...</td>\n",
              "      <td>...</td>\n",
              "      <td>...</td>\n",
              "      <td>...</td>\n",
              "      <td>...</td>\n",
              "    </tr>\n",
              "    <tr>\n",
              "      <th>2966</th>\n",
              "      <td>2022</td>\n",
              "      <td>SE</td>\n",
              "      <td>FT</td>\n",
              "      <td>Lead Machine Learning Engineer</td>\n",
              "      <td>7500000</td>\n",
              "      <td>INR</td>\n",
              "      <td>95386</td>\n",
              "      <td>IN</td>\n",
              "      <td>50</td>\n",
              "      <td>IN</td>\n",
              "      <td>L</td>\n",
              "    </tr>\n",
              "    <tr>\n",
              "      <th>3475</th>\n",
              "      <td>2021</td>\n",
              "      <td>MI</td>\n",
              "      <td>FT</td>\n",
              "      <td>ML Engineer</td>\n",
              "      <td>8500000</td>\n",
              "      <td>JPY</td>\n",
              "      <td>77364</td>\n",
              "      <td>JP</td>\n",
              "      <td>50</td>\n",
              "      <td>JP</td>\n",
              "      <td>S</td>\n",
              "    </tr>\n",
              "    <tr>\n",
              "      <th>3574</th>\n",
              "      <td>2021</td>\n",
              "      <td>MI</td>\n",
              "      <td>FT</td>\n",
              "      <td>BI Data Analyst</td>\n",
              "      <td>11000000</td>\n",
              "      <td>HUF</td>\n",
              "      <td>36259</td>\n",
              "      <td>HU</td>\n",
              "      <td>50</td>\n",
              "      <td>US</td>\n",
              "      <td>L</td>\n",
              "    </tr>\n",
              "    <tr>\n",
              "      <th>3646</th>\n",
              "      <td>2020</td>\n",
              "      <td>MI</td>\n",
              "      <td>FT</td>\n",
              "      <td>Data Scientist</td>\n",
              "      <td>11000000</td>\n",
              "      <td>HUF</td>\n",
              "      <td>35735</td>\n",
              "      <td>HU</td>\n",
              "      <td>50</td>\n",
              "      <td>HU</td>\n",
              "      <td>L</td>\n",
              "    </tr>\n",
              "    <tr>\n",
              "      <th>3669</th>\n",
              "      <td>2021</td>\n",
              "      <td>MI</td>\n",
              "      <td>FT</td>\n",
              "      <td>Data Scientist</td>\n",
              "      <td>30400000</td>\n",
              "      <td>CLP</td>\n",
              "      <td>40038</td>\n",
              "      <td>CL</td>\n",
              "      <td>100</td>\n",
              "      <td>CL</td>\n",
              "      <td>L</td>\n",
              "    </tr>\n",
              "  </tbody>\n",
              "</table>\n",
              "<p>3755 rows × 11 columns</p>\n",
              "</div>\n",
              "    <div class=\"colab-df-buttons\">\n",
              "\n",
              "  <div class=\"colab-df-container\">\n",
              "    <button class=\"colab-df-convert\" onclick=\"convertToInteractive('df-943c8dab-b172-403c-b3fd-106c539e971b')\"\n",
              "            title=\"Convert this dataframe to an interactive table.\"\n",
              "            style=\"display:none;\">\n",
              "\n",
              "  <svg xmlns=\"http://www.w3.org/2000/svg\" height=\"24px\" viewBox=\"0 -960 960 960\">\n",
              "    <path d=\"M120-120v-720h720v720H120Zm60-500h600v-160H180v160Zm220 220h160v-160H400v160Zm0 220h160v-160H400v160ZM180-400h160v-160H180v160Zm440 0h160v-160H620v160ZM180-180h160v-160H180v160Zm440 0h160v-160H620v160Z\"/>\n",
              "  </svg>\n",
              "    </button>\n",
              "\n",
              "  <style>\n",
              "    .colab-df-container {\n",
              "      display:flex;\n",
              "      gap: 12px;\n",
              "    }\n",
              "\n",
              "    .colab-df-convert {\n",
              "      background-color: #E8F0FE;\n",
              "      border: none;\n",
              "      border-radius: 50%;\n",
              "      cursor: pointer;\n",
              "      display: none;\n",
              "      fill: #1967D2;\n",
              "      height: 32px;\n",
              "      padding: 0 0 0 0;\n",
              "      width: 32px;\n",
              "    }\n",
              "\n",
              "    .colab-df-convert:hover {\n",
              "      background-color: #E2EBFA;\n",
              "      box-shadow: 0px 1px 2px rgba(60, 64, 67, 0.3), 0px 1px 3px 1px rgba(60, 64, 67, 0.15);\n",
              "      fill: #174EA6;\n",
              "    }\n",
              "\n",
              "    .colab-df-buttons div {\n",
              "      margin-bottom: 4px;\n",
              "    }\n",
              "\n",
              "    [theme=dark] .colab-df-convert {\n",
              "      background-color: #3B4455;\n",
              "      fill: #D2E3FC;\n",
              "    }\n",
              "\n",
              "    [theme=dark] .colab-df-convert:hover {\n",
              "      background-color: #434B5C;\n",
              "      box-shadow: 0px 1px 3px 1px rgba(0, 0, 0, 0.15);\n",
              "      filter: drop-shadow(0px 1px 2px rgba(0, 0, 0, 0.3));\n",
              "      fill: #FFFFFF;\n",
              "    }\n",
              "  </style>\n",
              "\n",
              "    <script>\n",
              "      const buttonEl =\n",
              "        document.querySelector('#df-943c8dab-b172-403c-b3fd-106c539e971b button.colab-df-convert');\n",
              "      buttonEl.style.display =\n",
              "        google.colab.kernel.accessAllowed ? 'block' : 'none';\n",
              "\n",
              "      async function convertToInteractive(key) {\n",
              "        const element = document.querySelector('#df-943c8dab-b172-403c-b3fd-106c539e971b');\n",
              "        const dataTable =\n",
              "          await google.colab.kernel.invokeFunction('convertToInteractive',\n",
              "                                                    [key], {});\n",
              "        if (!dataTable) return;\n",
              "\n",
              "        const docLinkHtml = 'Like what you see? Visit the ' +\n",
              "          '<a target=\"_blank\" href=https://colab.research.google.com/notebooks/data_table.ipynb>data table notebook</a>'\n",
              "          + ' to learn more about interactive tables.';\n",
              "        element.innerHTML = '';\n",
              "        dataTable['output_type'] = 'display_data';\n",
              "        await google.colab.output.renderOutput(dataTable, element);\n",
              "        const docLink = document.createElement('div');\n",
              "        docLink.innerHTML = docLinkHtml;\n",
              "        element.appendChild(docLink);\n",
              "      }\n",
              "    </script>\n",
              "  </div>\n",
              "\n",
              "\n",
              "<div id=\"df-458b10e3-1247-4ae0-97a3-b1826be0937a\">\n",
              "  <button class=\"colab-df-quickchart\" onclick=\"quickchart('df-458b10e3-1247-4ae0-97a3-b1826be0937a')\"\n",
              "            title=\"Suggest charts\"\n",
              "            style=\"display:none;\">\n",
              "\n",
              "<svg xmlns=\"http://www.w3.org/2000/svg\" height=\"24px\"viewBox=\"0 0 24 24\"\n",
              "     width=\"24px\">\n",
              "    <g>\n",
              "        <path d=\"M19 3H5c-1.1 0-2 .9-2 2v14c0 1.1.9 2 2 2h14c1.1 0 2-.9 2-2V5c0-1.1-.9-2-2-2zM9 17H7v-7h2v7zm4 0h-2V7h2v10zm4 0h-2v-4h2v4z\"/>\n",
              "    </g>\n",
              "</svg>\n",
              "  </button>\n",
              "\n",
              "<style>\n",
              "  .colab-df-quickchart {\n",
              "      --bg-color: #E8F0FE;\n",
              "      --fill-color: #1967D2;\n",
              "      --hover-bg-color: #E2EBFA;\n",
              "      --hover-fill-color: #174EA6;\n",
              "      --disabled-fill-color: #AAA;\n",
              "      --disabled-bg-color: #DDD;\n",
              "  }\n",
              "\n",
              "  [theme=dark] .colab-df-quickchart {\n",
              "      --bg-color: #3B4455;\n",
              "      --fill-color: #D2E3FC;\n",
              "      --hover-bg-color: #434B5C;\n",
              "      --hover-fill-color: #FFFFFF;\n",
              "      --disabled-bg-color: #3B4455;\n",
              "      --disabled-fill-color: #666;\n",
              "  }\n",
              "\n",
              "  .colab-df-quickchart {\n",
              "    background-color: var(--bg-color);\n",
              "    border: none;\n",
              "    border-radius: 50%;\n",
              "    cursor: pointer;\n",
              "    display: none;\n",
              "    fill: var(--fill-color);\n",
              "    height: 32px;\n",
              "    padding: 0;\n",
              "    width: 32px;\n",
              "  }\n",
              "\n",
              "  .colab-df-quickchart:hover {\n",
              "    background-color: var(--hover-bg-color);\n",
              "    box-shadow: 0 1px 2px rgba(60, 64, 67, 0.3), 0 1px 3px 1px rgba(60, 64, 67, 0.15);\n",
              "    fill: var(--button-hover-fill-color);\n",
              "  }\n",
              "\n",
              "  .colab-df-quickchart-complete:disabled,\n",
              "  .colab-df-quickchart-complete:disabled:hover {\n",
              "    background-color: var(--disabled-bg-color);\n",
              "    fill: var(--disabled-fill-color);\n",
              "    box-shadow: none;\n",
              "  }\n",
              "\n",
              "  .colab-df-spinner {\n",
              "    border: 2px solid var(--fill-color);\n",
              "    border-color: transparent;\n",
              "    border-bottom-color: var(--fill-color);\n",
              "    animation:\n",
              "      spin 1s steps(1) infinite;\n",
              "  }\n",
              "\n",
              "  @keyframes spin {\n",
              "    0% {\n",
              "      border-color: transparent;\n",
              "      border-bottom-color: var(--fill-color);\n",
              "      border-left-color: var(--fill-color);\n",
              "    }\n",
              "    20% {\n",
              "      border-color: transparent;\n",
              "      border-left-color: var(--fill-color);\n",
              "      border-top-color: var(--fill-color);\n",
              "    }\n",
              "    30% {\n",
              "      border-color: transparent;\n",
              "      border-left-color: var(--fill-color);\n",
              "      border-top-color: var(--fill-color);\n",
              "      border-right-color: var(--fill-color);\n",
              "    }\n",
              "    40% {\n",
              "      border-color: transparent;\n",
              "      border-right-color: var(--fill-color);\n",
              "      border-top-color: var(--fill-color);\n",
              "    }\n",
              "    60% {\n",
              "      border-color: transparent;\n",
              "      border-right-color: var(--fill-color);\n",
              "    }\n",
              "    80% {\n",
              "      border-color: transparent;\n",
              "      border-right-color: var(--fill-color);\n",
              "      border-bottom-color: var(--fill-color);\n",
              "    }\n",
              "    90% {\n",
              "      border-color: transparent;\n",
              "      border-bottom-color: var(--fill-color);\n",
              "    }\n",
              "  }\n",
              "</style>\n",
              "\n",
              "  <script>\n",
              "    async function quickchart(key) {\n",
              "      const quickchartButtonEl =\n",
              "        document.querySelector('#' + key + ' button');\n",
              "      quickchartButtonEl.disabled = true;  // To prevent multiple clicks.\n",
              "      quickchartButtonEl.classList.add('colab-df-spinner');\n",
              "      try {\n",
              "        const charts = await google.colab.kernel.invokeFunction(\n",
              "            'suggestCharts', [key], {});\n",
              "      } catch (error) {\n",
              "        console.error('Error during call to suggestCharts:', error);\n",
              "      }\n",
              "      quickchartButtonEl.classList.remove('colab-df-spinner');\n",
              "      quickchartButtonEl.classList.add('colab-df-quickchart-complete');\n",
              "    }\n",
              "    (() => {\n",
              "      let quickchartButtonEl =\n",
              "        document.querySelector('#df-458b10e3-1247-4ae0-97a3-b1826be0937a button');\n",
              "      quickchartButtonEl.style.display =\n",
              "        google.colab.kernel.accessAllowed ? 'block' : 'none';\n",
              "    })();\n",
              "  </script>\n",
              "</div>\n",
              "    </div>\n",
              "  </div>\n"
            ],
            "text/plain": [
              "      work_year experience_level employment_type  \\\n",
              "1548       2022               EN              FT   \n",
              "573        2023               EN              FT   \n",
              "2933       2022               MI              CT   \n",
              "3681       2020               MI              FT   \n",
              "2589       2022               SE              FT   \n",
              "...         ...              ...             ...   \n",
              "2966       2022               SE              FT   \n",
              "3475       2021               MI              FT   \n",
              "3574       2021               MI              FT   \n",
              "3646       2020               MI              FT   \n",
              "3669       2021               MI              FT   \n",
              "\n",
              "                           job_title    salary salary_currency  salary_in_usd  \\\n",
              "1548                    AI Developer      6000             EUR           6304   \n",
              "573    Autonomous Vehicle Technician      7000             USD           7000   \n",
              "2933              Analytics Engineer      7500             USD           7500   \n",
              "3681                    Data Analyst      8000             USD           8000   \n",
              "2589          Product Data Scientist      8000             USD           8000   \n",
              "...                              ...       ...             ...            ...   \n",
              "2966  Lead Machine Learning Engineer   7500000             INR          95386   \n",
              "3475                     ML Engineer   8500000             JPY          77364   \n",
              "3574                 BI Data Analyst  11000000             HUF          36259   \n",
              "3646                  Data Scientist  11000000             HUF          35735   \n",
              "3669                  Data Scientist  30400000             CLP          40038   \n",
              "\n",
              "     employee_residence  remote_ratio company_location company_size  \n",
              "1548                 MK             0               MK            S  \n",
              "573                  GH             0               GH            S  \n",
              "2933                 BO            50               BO            M  \n",
              "3681                 PK            50               PK            L  \n",
              "2589                 IN           100               SG            L  \n",
              "...                 ...           ...              ...          ...  \n",
              "2966                 IN            50               IN            L  \n",
              "3475                 JP            50               JP            S  \n",
              "3574                 HU            50               US            L  \n",
              "3646                 HU            50               HU            L  \n",
              "3669                 CL           100               CL            L  \n",
              "\n",
              "[3755 rows x 11 columns]"
            ]
          },
          "execution_count": 29,
          "metadata": {},
          "output_type": "execute_result"
        }
      ],
      "source": [
        "df.sort_values([\"salary\"], ascending=[1]) #urutan data berdasarkan salary"
      ]
    },
    {
      "cell_type": "code",
      "execution_count": null,
      "metadata": {
        "colab": {
          "base_uri": "https://localhost:8080/",
          "height": 423
        },
        "id": "iOa0QBuASyQ-",
        "outputId": "fc08362a-88fb-425a-d441-6abe4bc67145"
      },
      "outputs": [
        {
          "data": {
            "text/html": [
              "\n",
              "  <div id=\"df-10fcbf8a-2b16-40d1-b7eb-26514e98e1ea\" class=\"colab-df-container\">\n",
              "    <div>\n",
              "<style scoped>\n",
              "    .dataframe tbody tr th:only-of-type {\n",
              "        vertical-align: middle;\n",
              "    }\n",
              "\n",
              "    .dataframe tbody tr th {\n",
              "        vertical-align: top;\n",
              "    }\n",
              "\n",
              "    .dataframe thead th {\n",
              "        text-align: right;\n",
              "    }\n",
              "</style>\n",
              "<table border=\"1\" class=\"dataframe\">\n",
              "  <thead>\n",
              "    <tr style=\"text-align: right;\">\n",
              "      <th></th>\n",
              "      <th>work_year</th>\n",
              "      <th>experience_level</th>\n",
              "      <th>employment_type</th>\n",
              "      <th>job_title</th>\n",
              "      <th>salary</th>\n",
              "      <th>salary_currency</th>\n",
              "      <th>salary_in_usd</th>\n",
              "      <th>employee_residence</th>\n",
              "      <th>remote_ratio</th>\n",
              "      <th>company_location</th>\n",
              "      <th>company_size</th>\n",
              "    </tr>\n",
              "  </thead>\n",
              "  <tbody>\n",
              "    <tr>\n",
              "      <th>2684</th>\n",
              "      <td>2022</td>\n",
              "      <td>MI</td>\n",
              "      <td>FT</td>\n",
              "      <td>NLP Engineer</td>\n",
              "      <td>120000</td>\n",
              "      <td>CZK</td>\n",
              "      <td>5132</td>\n",
              "      <td>CZ</td>\n",
              "      <td>100</td>\n",
              "      <td>CZ</td>\n",
              "      <td>M</td>\n",
              "    </tr>\n",
              "    <tr>\n",
              "      <th>2578</th>\n",
              "      <td>2021</td>\n",
              "      <td>EN</td>\n",
              "      <td>FT</td>\n",
              "      <td>Power BI Developer</td>\n",
              "      <td>400000</td>\n",
              "      <td>INR</td>\n",
              "      <td>5409</td>\n",
              "      <td>IN</td>\n",
              "      <td>50</td>\n",
              "      <td>IN</td>\n",
              "      <td>L</td>\n",
              "    </tr>\n",
              "    <tr>\n",
              "      <th>3537</th>\n",
              "      <td>2021</td>\n",
              "      <td>MI</td>\n",
              "      <td>PT</td>\n",
              "      <td>3D Computer Vision Researcher</td>\n",
              "      <td>400000</td>\n",
              "      <td>INR</td>\n",
              "      <td>5409</td>\n",
              "      <td>IN</td>\n",
              "      <td>50</td>\n",
              "      <td>IN</td>\n",
              "      <td>M</td>\n",
              "    </tr>\n",
              "    <tr>\n",
              "      <th>3667</th>\n",
              "      <td>2021</td>\n",
              "      <td>MI</td>\n",
              "      <td>FT</td>\n",
              "      <td>Data Scientist</td>\n",
              "      <td>420000</td>\n",
              "      <td>INR</td>\n",
              "      <td>5679</td>\n",
              "      <td>IN</td>\n",
              "      <td>100</td>\n",
              "      <td>US</td>\n",
              "      <td>S</td>\n",
              "    </tr>\n",
              "    <tr>\n",
              "      <th>3685</th>\n",
              "      <td>2020</td>\n",
              "      <td>EN</td>\n",
              "      <td>FT</td>\n",
              "      <td>Data Science Consultant</td>\n",
              "      <td>423000</td>\n",
              "      <td>INR</td>\n",
              "      <td>5707</td>\n",
              "      <td>IN</td>\n",
              "      <td>50</td>\n",
              "      <td>IN</td>\n",
              "      <td>M</td>\n",
              "    </tr>\n",
              "    <tr>\n",
              "      <th>...</th>\n",
              "      <td>...</td>\n",
              "      <td>...</td>\n",
              "      <td>...</td>\n",
              "      <td>...</td>\n",
              "      <td>...</td>\n",
              "      <td>...</td>\n",
              "      <td>...</td>\n",
              "      <td>...</td>\n",
              "      <td>...</td>\n",
              "      <td>...</td>\n",
              "      <td>...</td>\n",
              "    </tr>\n",
              "    <tr>\n",
              "      <th>3675</th>\n",
              "      <td>2021</td>\n",
              "      <td>EX</td>\n",
              "      <td>CT</td>\n",
              "      <td>Principal Data Scientist</td>\n",
              "      <td>416000</td>\n",
              "      <td>USD</td>\n",
              "      <td>416000</td>\n",
              "      <td>US</td>\n",
              "      <td>100</td>\n",
              "      <td>US</td>\n",
              "      <td>S</td>\n",
              "    </tr>\n",
              "    <tr>\n",
              "      <th>3747</th>\n",
              "      <td>2021</td>\n",
              "      <td>MI</td>\n",
              "      <td>FT</td>\n",
              "      <td>Applied Machine Learning Scientist</td>\n",
              "      <td>423000</td>\n",
              "      <td>USD</td>\n",
              "      <td>423000</td>\n",
              "      <td>US</td>\n",
              "      <td>50</td>\n",
              "      <td>US</td>\n",
              "      <td>L</td>\n",
              "    </tr>\n",
              "    <tr>\n",
              "      <th>528</th>\n",
              "      <td>2023</td>\n",
              "      <td>SE</td>\n",
              "      <td>FT</td>\n",
              "      <td>AI Scientist</td>\n",
              "      <td>1500000</td>\n",
              "      <td>ILS</td>\n",
              "      <td>423834</td>\n",
              "      <td>IL</td>\n",
              "      <td>0</td>\n",
              "      <td>IL</td>\n",
              "      <td>L</td>\n",
              "    </tr>\n",
              "    <tr>\n",
              "      <th>2011</th>\n",
              "      <td>2022</td>\n",
              "      <td>MI</td>\n",
              "      <td>FT</td>\n",
              "      <td>Data Analyst</td>\n",
              "      <td>350000</td>\n",
              "      <td>GBP</td>\n",
              "      <td>430967</td>\n",
              "      <td>GB</td>\n",
              "      <td>0</td>\n",
              "      <td>GB</td>\n",
              "      <td>M</td>\n",
              "    </tr>\n",
              "    <tr>\n",
              "      <th>3522</th>\n",
              "      <td>2020</td>\n",
              "      <td>MI</td>\n",
              "      <td>FT</td>\n",
              "      <td>Research Scientist</td>\n",
              "      <td>450000</td>\n",
              "      <td>USD</td>\n",
              "      <td>450000</td>\n",
              "      <td>US</td>\n",
              "      <td>0</td>\n",
              "      <td>US</td>\n",
              "      <td>M</td>\n",
              "    </tr>\n",
              "  </tbody>\n",
              "</table>\n",
              "<p>3755 rows × 11 columns</p>\n",
              "</div>\n",
              "    <div class=\"colab-df-buttons\">\n",
              "\n",
              "  <div class=\"colab-df-container\">\n",
              "    <button class=\"colab-df-convert\" onclick=\"convertToInteractive('df-10fcbf8a-2b16-40d1-b7eb-26514e98e1ea')\"\n",
              "            title=\"Convert this dataframe to an interactive table.\"\n",
              "            style=\"display:none;\">\n",
              "\n",
              "  <svg xmlns=\"http://www.w3.org/2000/svg\" height=\"24px\" viewBox=\"0 -960 960 960\">\n",
              "    <path d=\"M120-120v-720h720v720H120Zm60-500h600v-160H180v160Zm220 220h160v-160H400v160Zm0 220h160v-160H400v160ZM180-400h160v-160H180v160Zm440 0h160v-160H620v160ZM180-180h160v-160H180v160Zm440 0h160v-160H620v160Z\"/>\n",
              "  </svg>\n",
              "    </button>\n",
              "\n",
              "  <style>\n",
              "    .colab-df-container {\n",
              "      display:flex;\n",
              "      gap: 12px;\n",
              "    }\n",
              "\n",
              "    .colab-df-convert {\n",
              "      background-color: #E8F0FE;\n",
              "      border: none;\n",
              "      border-radius: 50%;\n",
              "      cursor: pointer;\n",
              "      display: none;\n",
              "      fill: #1967D2;\n",
              "      height: 32px;\n",
              "      padding: 0 0 0 0;\n",
              "      width: 32px;\n",
              "    }\n",
              "\n",
              "    .colab-df-convert:hover {\n",
              "      background-color: #E2EBFA;\n",
              "      box-shadow: 0px 1px 2px rgba(60, 64, 67, 0.3), 0px 1px 3px 1px rgba(60, 64, 67, 0.15);\n",
              "      fill: #174EA6;\n",
              "    }\n",
              "\n",
              "    .colab-df-buttons div {\n",
              "      margin-bottom: 4px;\n",
              "    }\n",
              "\n",
              "    [theme=dark] .colab-df-convert {\n",
              "      background-color: #3B4455;\n",
              "      fill: #D2E3FC;\n",
              "    }\n",
              "\n",
              "    [theme=dark] .colab-df-convert:hover {\n",
              "      background-color: #434B5C;\n",
              "      box-shadow: 0px 1px 3px 1px rgba(0, 0, 0, 0.15);\n",
              "      filter: drop-shadow(0px 1px 2px rgba(0, 0, 0, 0.3));\n",
              "      fill: #FFFFFF;\n",
              "    }\n",
              "  </style>\n",
              "\n",
              "    <script>\n",
              "      const buttonEl =\n",
              "        document.querySelector('#df-10fcbf8a-2b16-40d1-b7eb-26514e98e1ea button.colab-df-convert');\n",
              "      buttonEl.style.display =\n",
              "        google.colab.kernel.accessAllowed ? 'block' : 'none';\n",
              "\n",
              "      async function convertToInteractive(key) {\n",
              "        const element = document.querySelector('#df-10fcbf8a-2b16-40d1-b7eb-26514e98e1ea');\n",
              "        const dataTable =\n",
              "          await google.colab.kernel.invokeFunction('convertToInteractive',\n",
              "                                                    [key], {});\n",
              "        if (!dataTable) return;\n",
              "\n",
              "        const docLinkHtml = 'Like what you see? Visit the ' +\n",
              "          '<a target=\"_blank\" href=https://colab.research.google.com/notebooks/data_table.ipynb>data table notebook</a>'\n",
              "          + ' to learn more about interactive tables.';\n",
              "        element.innerHTML = '';\n",
              "        dataTable['output_type'] = 'display_data';\n",
              "        await google.colab.output.renderOutput(dataTable, element);\n",
              "        const docLink = document.createElement('div');\n",
              "        docLink.innerHTML = docLinkHtml;\n",
              "        element.appendChild(docLink);\n",
              "      }\n",
              "    </script>\n",
              "  </div>\n",
              "\n",
              "\n",
              "<div id=\"df-750c0ce5-fa6c-49ce-8562-97b00bedccbf\">\n",
              "  <button class=\"colab-df-quickchart\" onclick=\"quickchart('df-750c0ce5-fa6c-49ce-8562-97b00bedccbf')\"\n",
              "            title=\"Suggest charts\"\n",
              "            style=\"display:none;\">\n",
              "\n",
              "<svg xmlns=\"http://www.w3.org/2000/svg\" height=\"24px\"viewBox=\"0 0 24 24\"\n",
              "     width=\"24px\">\n",
              "    <g>\n",
              "        <path d=\"M19 3H5c-1.1 0-2 .9-2 2v14c0 1.1.9 2 2 2h14c1.1 0 2-.9 2-2V5c0-1.1-.9-2-2-2zM9 17H7v-7h2v7zm4 0h-2V7h2v10zm4 0h-2v-4h2v4z\"/>\n",
              "    </g>\n",
              "</svg>\n",
              "  </button>\n",
              "\n",
              "<style>\n",
              "  .colab-df-quickchart {\n",
              "      --bg-color: #E8F0FE;\n",
              "      --fill-color: #1967D2;\n",
              "      --hover-bg-color: #E2EBFA;\n",
              "      --hover-fill-color: #174EA6;\n",
              "      --disabled-fill-color: #AAA;\n",
              "      --disabled-bg-color: #DDD;\n",
              "  }\n",
              "\n",
              "  [theme=dark] .colab-df-quickchart {\n",
              "      --bg-color: #3B4455;\n",
              "      --fill-color: #D2E3FC;\n",
              "      --hover-bg-color: #434B5C;\n",
              "      --hover-fill-color: #FFFFFF;\n",
              "      --disabled-bg-color: #3B4455;\n",
              "      --disabled-fill-color: #666;\n",
              "  }\n",
              "\n",
              "  .colab-df-quickchart {\n",
              "    background-color: var(--bg-color);\n",
              "    border: none;\n",
              "    border-radius: 50%;\n",
              "    cursor: pointer;\n",
              "    display: none;\n",
              "    fill: var(--fill-color);\n",
              "    height: 32px;\n",
              "    padding: 0;\n",
              "    width: 32px;\n",
              "  }\n",
              "\n",
              "  .colab-df-quickchart:hover {\n",
              "    background-color: var(--hover-bg-color);\n",
              "    box-shadow: 0 1px 2px rgba(60, 64, 67, 0.3), 0 1px 3px 1px rgba(60, 64, 67, 0.15);\n",
              "    fill: var(--button-hover-fill-color);\n",
              "  }\n",
              "\n",
              "  .colab-df-quickchart-complete:disabled,\n",
              "  .colab-df-quickchart-complete:disabled:hover {\n",
              "    background-color: var(--disabled-bg-color);\n",
              "    fill: var(--disabled-fill-color);\n",
              "    box-shadow: none;\n",
              "  }\n",
              "\n",
              "  .colab-df-spinner {\n",
              "    border: 2px solid var(--fill-color);\n",
              "    border-color: transparent;\n",
              "    border-bottom-color: var(--fill-color);\n",
              "    animation:\n",
              "      spin 1s steps(1) infinite;\n",
              "  }\n",
              "\n",
              "  @keyframes spin {\n",
              "    0% {\n",
              "      border-color: transparent;\n",
              "      border-bottom-color: var(--fill-color);\n",
              "      border-left-color: var(--fill-color);\n",
              "    }\n",
              "    20% {\n",
              "      border-color: transparent;\n",
              "      border-left-color: var(--fill-color);\n",
              "      border-top-color: var(--fill-color);\n",
              "    }\n",
              "    30% {\n",
              "      border-color: transparent;\n",
              "      border-left-color: var(--fill-color);\n",
              "      border-top-color: var(--fill-color);\n",
              "      border-right-color: var(--fill-color);\n",
              "    }\n",
              "    40% {\n",
              "      border-color: transparent;\n",
              "      border-right-color: var(--fill-color);\n",
              "      border-top-color: var(--fill-color);\n",
              "    }\n",
              "    60% {\n",
              "      border-color: transparent;\n",
              "      border-right-color: var(--fill-color);\n",
              "    }\n",
              "    80% {\n",
              "      border-color: transparent;\n",
              "      border-right-color: var(--fill-color);\n",
              "      border-bottom-color: var(--fill-color);\n",
              "    }\n",
              "    90% {\n",
              "      border-color: transparent;\n",
              "      border-bottom-color: var(--fill-color);\n",
              "    }\n",
              "  }\n",
              "</style>\n",
              "\n",
              "  <script>\n",
              "    async function quickchart(key) {\n",
              "      const quickchartButtonEl =\n",
              "        document.querySelector('#' + key + ' button');\n",
              "      quickchartButtonEl.disabled = true;  // To prevent multiple clicks.\n",
              "      quickchartButtonEl.classList.add('colab-df-spinner');\n",
              "      try {\n",
              "        const charts = await google.colab.kernel.invokeFunction(\n",
              "            'suggestCharts', [key], {});\n",
              "      } catch (error) {\n",
              "        console.error('Error during call to suggestCharts:', error);\n",
              "      }\n",
              "      quickchartButtonEl.classList.remove('colab-df-spinner');\n",
              "      quickchartButtonEl.classList.add('colab-df-quickchart-complete');\n",
              "    }\n",
              "    (() => {\n",
              "      let quickchartButtonEl =\n",
              "        document.querySelector('#df-750c0ce5-fa6c-49ce-8562-97b00bedccbf button');\n",
              "      quickchartButtonEl.style.display =\n",
              "        google.colab.kernel.accessAllowed ? 'block' : 'none';\n",
              "    })();\n",
              "  </script>\n",
              "</div>\n",
              "    </div>\n",
              "  </div>\n"
            ],
            "text/plain": [
              "      work_year experience_level employment_type  \\\n",
              "2684       2022               MI              FT   \n",
              "2578       2021               EN              FT   \n",
              "3537       2021               MI              PT   \n",
              "3667       2021               MI              FT   \n",
              "3685       2020               EN              FT   \n",
              "...         ...              ...             ...   \n",
              "3675       2021               EX              CT   \n",
              "3747       2021               MI              FT   \n",
              "528        2023               SE              FT   \n",
              "2011       2022               MI              FT   \n",
              "3522       2020               MI              FT   \n",
              "\n",
              "                               job_title   salary salary_currency  \\\n",
              "2684                        NLP Engineer   120000             CZK   \n",
              "2578                  Power BI Developer   400000             INR   \n",
              "3537       3D Computer Vision Researcher   400000             INR   \n",
              "3667                      Data Scientist   420000             INR   \n",
              "3685             Data Science Consultant   423000             INR   \n",
              "...                                  ...      ...             ...   \n",
              "3675            Principal Data Scientist   416000             USD   \n",
              "3747  Applied Machine Learning Scientist   423000             USD   \n",
              "528                         AI Scientist  1500000             ILS   \n",
              "2011                        Data Analyst   350000             GBP   \n",
              "3522                  Research Scientist   450000             USD   \n",
              "\n",
              "      salary_in_usd employee_residence  remote_ratio company_location  \\\n",
              "2684           5132                 CZ           100               CZ   \n",
              "2578           5409                 IN            50               IN   \n",
              "3537           5409                 IN            50               IN   \n",
              "3667           5679                 IN           100               US   \n",
              "3685           5707                 IN            50               IN   \n",
              "...             ...                ...           ...              ...   \n",
              "3675         416000                 US           100               US   \n",
              "3747         423000                 US            50               US   \n",
              "528          423834                 IL             0               IL   \n",
              "2011         430967                 GB             0               GB   \n",
              "3522         450000                 US             0               US   \n",
              "\n",
              "     company_size  \n",
              "2684            M  \n",
              "2578            L  \n",
              "3537            M  \n",
              "3667            S  \n",
              "3685            M  \n",
              "...           ...  \n",
              "3675            S  \n",
              "3747            L  \n",
              "528             L  \n",
              "2011            M  \n",
              "3522            M  \n",
              "\n",
              "[3755 rows x 11 columns]"
            ]
          },
          "execution_count": 30,
          "metadata": {},
          "output_type": "execute_result"
        }
      ],
      "source": [
        "df.sort_values([\"salary_in_usd\"], ascending=[1]) #urutan data berdasarkan salary_in_usd"
      ]
    },
    {
      "cell_type": "code",
      "execution_count": null,
      "metadata": {
        "colab": {
          "base_uri": "https://localhost:8080/",
          "height": 423
        },
        "id": "tozCqWuZS4f6",
        "outputId": "bee37fbb-658c-47c4-ca89-1e33685b6fe6"
      },
      "outputs": [
        {
          "data": {
            "text/html": [
              "\n",
              "  <div id=\"df-a2539cf2-19f1-466e-a054-91d1a32a3633\" class=\"colab-df-container\">\n",
              "    <div>\n",
              "<style scoped>\n",
              "    .dataframe tbody tr th:only-of-type {\n",
              "        vertical-align: middle;\n",
              "    }\n",
              "\n",
              "    .dataframe tbody tr th {\n",
              "        vertical-align: top;\n",
              "    }\n",
              "\n",
              "    .dataframe thead th {\n",
              "        text-align: right;\n",
              "    }\n",
              "</style>\n",
              "<table border=\"1\" class=\"dataframe\">\n",
              "  <thead>\n",
              "    <tr style=\"text-align: right;\">\n",
              "      <th></th>\n",
              "      <th>work_year</th>\n",
              "      <th>experience_level</th>\n",
              "      <th>employment_type</th>\n",
              "      <th>job_title</th>\n",
              "      <th>salary</th>\n",
              "      <th>salary_currency</th>\n",
              "      <th>salary_in_usd</th>\n",
              "      <th>employee_residence</th>\n",
              "      <th>remote_ratio</th>\n",
              "      <th>company_location</th>\n",
              "      <th>company_size</th>\n",
              "    </tr>\n",
              "  </thead>\n",
              "  <tbody>\n",
              "    <tr>\n",
              "      <th>1877</th>\n",
              "      <td>2022</td>\n",
              "      <td>EN</td>\n",
              "      <td>FT</td>\n",
              "      <td>Data Engineer</td>\n",
              "      <td>65000</td>\n",
              "      <td>USD</td>\n",
              "      <td>65000</td>\n",
              "      <td>US</td>\n",
              "      <td>0</td>\n",
              "      <td>US</td>\n",
              "      <td>M</td>\n",
              "    </tr>\n",
              "    <tr>\n",
              "      <th>1382</th>\n",
              "      <td>2023</td>\n",
              "      <td>SE</td>\n",
              "      <td>FT</td>\n",
              "      <td>Data Engineer</td>\n",
              "      <td>252000</td>\n",
              "      <td>USD</td>\n",
              "      <td>252000</td>\n",
              "      <td>US</td>\n",
              "      <td>0</td>\n",
              "      <td>US</td>\n",
              "      <td>M</td>\n",
              "    </tr>\n",
              "    <tr>\n",
              "      <th>1381</th>\n",
              "      <td>2023</td>\n",
              "      <td>SE</td>\n",
              "      <td>FT</td>\n",
              "      <td>Machine Learning Engineer</td>\n",
              "      <td>125000</td>\n",
              "      <td>USD</td>\n",
              "      <td>125000</td>\n",
              "      <td>US</td>\n",
              "      <td>0</td>\n",
              "      <td>US</td>\n",
              "      <td>M</td>\n",
              "    </tr>\n",
              "    <tr>\n",
              "      <th>1380</th>\n",
              "      <td>2023</td>\n",
              "      <td>SE</td>\n",
              "      <td>FT</td>\n",
              "      <td>Machine Learning Engineer</td>\n",
              "      <td>150000</td>\n",
              "      <td>USD</td>\n",
              "      <td>150000</td>\n",
              "      <td>US</td>\n",
              "      <td>0</td>\n",
              "      <td>US</td>\n",
              "      <td>M</td>\n",
              "    </tr>\n",
              "    <tr>\n",
              "      <th>1379</th>\n",
              "      <td>2023</td>\n",
              "      <td>SE</td>\n",
              "      <td>FT</td>\n",
              "      <td>Data Engineer</td>\n",
              "      <td>129000</td>\n",
              "      <td>USD</td>\n",
              "      <td>129000</td>\n",
              "      <td>US</td>\n",
              "      <td>0</td>\n",
              "      <td>US</td>\n",
              "      <td>M</td>\n",
              "    </tr>\n",
              "    <tr>\n",
              "      <th>...</th>\n",
              "      <td>...</td>\n",
              "      <td>...</td>\n",
              "      <td>...</td>\n",
              "      <td>...</td>\n",
              "      <td>...</td>\n",
              "      <td>...</td>\n",
              "      <td>...</td>\n",
              "      <td>...</td>\n",
              "      <td>...</td>\n",
              "      <td>...</td>\n",
              "      <td>...</td>\n",
              "    </tr>\n",
              "    <tr>\n",
              "      <th>2642</th>\n",
              "      <td>2022</td>\n",
              "      <td>SE</td>\n",
              "      <td>FT</td>\n",
              "      <td>Data Scientist</td>\n",
              "      <td>185000</td>\n",
              "      <td>USD</td>\n",
              "      <td>185000</td>\n",
              "      <td>US</td>\n",
              "      <td>100</td>\n",
              "      <td>US</td>\n",
              "      <td>M</td>\n",
              "    </tr>\n",
              "    <tr>\n",
              "      <th>2641</th>\n",
              "      <td>2022</td>\n",
              "      <td>SE</td>\n",
              "      <td>FT</td>\n",
              "      <td>Data Architect</td>\n",
              "      <td>66000</td>\n",
              "      <td>USD</td>\n",
              "      <td>66000</td>\n",
              "      <td>US</td>\n",
              "      <td>100</td>\n",
              "      <td>US</td>\n",
              "      <td>M</td>\n",
              "    </tr>\n",
              "    <tr>\n",
              "      <th>2640</th>\n",
              "      <td>2022</td>\n",
              "      <td>SE</td>\n",
              "      <td>FT</td>\n",
              "      <td>Data Architect</td>\n",
              "      <td>225000</td>\n",
              "      <td>USD</td>\n",
              "      <td>225000</td>\n",
              "      <td>US</td>\n",
              "      <td>100</td>\n",
              "      <td>US</td>\n",
              "      <td>M</td>\n",
              "    </tr>\n",
              "    <tr>\n",
              "      <th>2650</th>\n",
              "      <td>2022</td>\n",
              "      <td>EN</td>\n",
              "      <td>FT</td>\n",
              "      <td>BI Data Analyst</td>\n",
              "      <td>57000</td>\n",
              "      <td>USD</td>\n",
              "      <td>57000</td>\n",
              "      <td>US</td>\n",
              "      <td>100</td>\n",
              "      <td>US</td>\n",
              "      <td>L</td>\n",
              "    </tr>\n",
              "    <tr>\n",
              "      <th>0</th>\n",
              "      <td>2023</td>\n",
              "      <td>SE</td>\n",
              "      <td>FT</td>\n",
              "      <td>Principal Data Scientist</td>\n",
              "      <td>80000</td>\n",
              "      <td>EUR</td>\n",
              "      <td>85847</td>\n",
              "      <td>ES</td>\n",
              "      <td>100</td>\n",
              "      <td>ES</td>\n",
              "      <td>L</td>\n",
              "    </tr>\n",
              "  </tbody>\n",
              "</table>\n",
              "<p>3755 rows × 11 columns</p>\n",
              "</div>\n",
              "    <div class=\"colab-df-buttons\">\n",
              "\n",
              "  <div class=\"colab-df-container\">\n",
              "    <button class=\"colab-df-convert\" onclick=\"convertToInteractive('df-a2539cf2-19f1-466e-a054-91d1a32a3633')\"\n",
              "            title=\"Convert this dataframe to an interactive table.\"\n",
              "            style=\"display:none;\">\n",
              "\n",
              "  <svg xmlns=\"http://www.w3.org/2000/svg\" height=\"24px\" viewBox=\"0 -960 960 960\">\n",
              "    <path d=\"M120-120v-720h720v720H120Zm60-500h600v-160H180v160Zm220 220h160v-160H400v160Zm0 220h160v-160H400v160ZM180-400h160v-160H180v160Zm440 0h160v-160H620v160ZM180-180h160v-160H180v160Zm440 0h160v-160H620v160Z\"/>\n",
              "  </svg>\n",
              "    </button>\n",
              "\n",
              "  <style>\n",
              "    .colab-df-container {\n",
              "      display:flex;\n",
              "      gap: 12px;\n",
              "    }\n",
              "\n",
              "    .colab-df-convert {\n",
              "      background-color: #E8F0FE;\n",
              "      border: none;\n",
              "      border-radius: 50%;\n",
              "      cursor: pointer;\n",
              "      display: none;\n",
              "      fill: #1967D2;\n",
              "      height: 32px;\n",
              "      padding: 0 0 0 0;\n",
              "      width: 32px;\n",
              "    }\n",
              "\n",
              "    .colab-df-convert:hover {\n",
              "      background-color: #E2EBFA;\n",
              "      box-shadow: 0px 1px 2px rgba(60, 64, 67, 0.3), 0px 1px 3px 1px rgba(60, 64, 67, 0.15);\n",
              "      fill: #174EA6;\n",
              "    }\n",
              "\n",
              "    .colab-df-buttons div {\n",
              "      margin-bottom: 4px;\n",
              "    }\n",
              "\n",
              "    [theme=dark] .colab-df-convert {\n",
              "      background-color: #3B4455;\n",
              "      fill: #D2E3FC;\n",
              "    }\n",
              "\n",
              "    [theme=dark] .colab-df-convert:hover {\n",
              "      background-color: #434B5C;\n",
              "      box-shadow: 0px 1px 3px 1px rgba(0, 0, 0, 0.15);\n",
              "      filter: drop-shadow(0px 1px 2px rgba(0, 0, 0, 0.3));\n",
              "      fill: #FFFFFF;\n",
              "    }\n",
              "  </style>\n",
              "\n",
              "    <script>\n",
              "      const buttonEl =\n",
              "        document.querySelector('#df-a2539cf2-19f1-466e-a054-91d1a32a3633 button.colab-df-convert');\n",
              "      buttonEl.style.display =\n",
              "        google.colab.kernel.accessAllowed ? 'block' : 'none';\n",
              "\n",
              "      async function convertToInteractive(key) {\n",
              "        const element = document.querySelector('#df-a2539cf2-19f1-466e-a054-91d1a32a3633');\n",
              "        const dataTable =\n",
              "          await google.colab.kernel.invokeFunction('convertToInteractive',\n",
              "                                                    [key], {});\n",
              "        if (!dataTable) return;\n",
              "\n",
              "        const docLinkHtml = 'Like what you see? Visit the ' +\n",
              "          '<a target=\"_blank\" href=https://colab.research.google.com/notebooks/data_table.ipynb>data table notebook</a>'\n",
              "          + ' to learn more about interactive tables.';\n",
              "        element.innerHTML = '';\n",
              "        dataTable['output_type'] = 'display_data';\n",
              "        await google.colab.output.renderOutput(dataTable, element);\n",
              "        const docLink = document.createElement('div');\n",
              "        docLink.innerHTML = docLinkHtml;\n",
              "        element.appendChild(docLink);\n",
              "      }\n",
              "    </script>\n",
              "  </div>\n",
              "\n",
              "\n",
              "<div id=\"df-240663f8-76bd-4216-be5f-4e68680a528d\">\n",
              "  <button class=\"colab-df-quickchart\" onclick=\"quickchart('df-240663f8-76bd-4216-be5f-4e68680a528d')\"\n",
              "            title=\"Suggest charts\"\n",
              "            style=\"display:none;\">\n",
              "\n",
              "<svg xmlns=\"http://www.w3.org/2000/svg\" height=\"24px\"viewBox=\"0 0 24 24\"\n",
              "     width=\"24px\">\n",
              "    <g>\n",
              "        <path d=\"M19 3H5c-1.1 0-2 .9-2 2v14c0 1.1.9 2 2 2h14c1.1 0 2-.9 2-2V5c0-1.1-.9-2-2-2zM9 17H7v-7h2v7zm4 0h-2V7h2v10zm4 0h-2v-4h2v4z\"/>\n",
              "    </g>\n",
              "</svg>\n",
              "  </button>\n",
              "\n",
              "<style>\n",
              "  .colab-df-quickchart {\n",
              "      --bg-color: #E8F0FE;\n",
              "      --fill-color: #1967D2;\n",
              "      --hover-bg-color: #E2EBFA;\n",
              "      --hover-fill-color: #174EA6;\n",
              "      --disabled-fill-color: #AAA;\n",
              "      --disabled-bg-color: #DDD;\n",
              "  }\n",
              "\n",
              "  [theme=dark] .colab-df-quickchart {\n",
              "      --bg-color: #3B4455;\n",
              "      --fill-color: #D2E3FC;\n",
              "      --hover-bg-color: #434B5C;\n",
              "      --hover-fill-color: #FFFFFF;\n",
              "      --disabled-bg-color: #3B4455;\n",
              "      --disabled-fill-color: #666;\n",
              "  }\n",
              "\n",
              "  .colab-df-quickchart {\n",
              "    background-color: var(--bg-color);\n",
              "    border: none;\n",
              "    border-radius: 50%;\n",
              "    cursor: pointer;\n",
              "    display: none;\n",
              "    fill: var(--fill-color);\n",
              "    height: 32px;\n",
              "    padding: 0;\n",
              "    width: 32px;\n",
              "  }\n",
              "\n",
              "  .colab-df-quickchart:hover {\n",
              "    background-color: var(--hover-bg-color);\n",
              "    box-shadow: 0 1px 2px rgba(60, 64, 67, 0.3), 0 1px 3px 1px rgba(60, 64, 67, 0.15);\n",
              "    fill: var(--button-hover-fill-color);\n",
              "  }\n",
              "\n",
              "  .colab-df-quickchart-complete:disabled,\n",
              "  .colab-df-quickchart-complete:disabled:hover {\n",
              "    background-color: var(--disabled-bg-color);\n",
              "    fill: var(--disabled-fill-color);\n",
              "    box-shadow: none;\n",
              "  }\n",
              "\n",
              "  .colab-df-spinner {\n",
              "    border: 2px solid var(--fill-color);\n",
              "    border-color: transparent;\n",
              "    border-bottom-color: var(--fill-color);\n",
              "    animation:\n",
              "      spin 1s steps(1) infinite;\n",
              "  }\n",
              "\n",
              "  @keyframes spin {\n",
              "    0% {\n",
              "      border-color: transparent;\n",
              "      border-bottom-color: var(--fill-color);\n",
              "      border-left-color: var(--fill-color);\n",
              "    }\n",
              "    20% {\n",
              "      border-color: transparent;\n",
              "      border-left-color: var(--fill-color);\n",
              "      border-top-color: var(--fill-color);\n",
              "    }\n",
              "    30% {\n",
              "      border-color: transparent;\n",
              "      border-left-color: var(--fill-color);\n",
              "      border-top-color: var(--fill-color);\n",
              "      border-right-color: var(--fill-color);\n",
              "    }\n",
              "    40% {\n",
              "      border-color: transparent;\n",
              "      border-right-color: var(--fill-color);\n",
              "      border-top-color: var(--fill-color);\n",
              "    }\n",
              "    60% {\n",
              "      border-color: transparent;\n",
              "      border-right-color: var(--fill-color);\n",
              "    }\n",
              "    80% {\n",
              "      border-color: transparent;\n",
              "      border-right-color: var(--fill-color);\n",
              "      border-bottom-color: var(--fill-color);\n",
              "    }\n",
              "    90% {\n",
              "      border-color: transparent;\n",
              "      border-bottom-color: var(--fill-color);\n",
              "    }\n",
              "  }\n",
              "</style>\n",
              "\n",
              "  <script>\n",
              "    async function quickchart(key) {\n",
              "      const quickchartButtonEl =\n",
              "        document.querySelector('#' + key + ' button');\n",
              "      quickchartButtonEl.disabled = true;  // To prevent multiple clicks.\n",
              "      quickchartButtonEl.classList.add('colab-df-spinner');\n",
              "      try {\n",
              "        const charts = await google.colab.kernel.invokeFunction(\n",
              "            'suggestCharts', [key], {});\n",
              "      } catch (error) {\n",
              "        console.error('Error during call to suggestCharts:', error);\n",
              "      }\n",
              "      quickchartButtonEl.classList.remove('colab-df-spinner');\n",
              "      quickchartButtonEl.classList.add('colab-df-quickchart-complete');\n",
              "    }\n",
              "    (() => {\n",
              "      let quickchartButtonEl =\n",
              "        document.querySelector('#df-240663f8-76bd-4216-be5f-4e68680a528d button');\n",
              "      quickchartButtonEl.style.display =\n",
              "        google.colab.kernel.accessAllowed ? 'block' : 'none';\n",
              "    })();\n",
              "  </script>\n",
              "</div>\n",
              "    </div>\n",
              "  </div>\n"
            ],
            "text/plain": [
              "      work_year experience_level employment_type                  job_title  \\\n",
              "1877       2022               EN              FT              Data Engineer   \n",
              "1382       2023               SE              FT              Data Engineer   \n",
              "1381       2023               SE              FT  Machine Learning Engineer   \n",
              "1380       2023               SE              FT  Machine Learning Engineer   \n",
              "1379       2023               SE              FT              Data Engineer   \n",
              "...         ...              ...             ...                        ...   \n",
              "2642       2022               SE              FT             Data Scientist   \n",
              "2641       2022               SE              FT             Data Architect   \n",
              "2640       2022               SE              FT             Data Architect   \n",
              "2650       2022               EN              FT            BI Data Analyst   \n",
              "0          2023               SE              FT   Principal Data Scientist   \n",
              "\n",
              "      salary salary_currency  salary_in_usd employee_residence  remote_ratio  \\\n",
              "1877   65000             USD          65000                 US             0   \n",
              "1382  252000             USD         252000                 US             0   \n",
              "1381  125000             USD         125000                 US             0   \n",
              "1380  150000             USD         150000                 US             0   \n",
              "1379  129000             USD         129000                 US             0   \n",
              "...      ...             ...            ...                ...           ...   \n",
              "2642  185000             USD         185000                 US           100   \n",
              "2641   66000             USD          66000                 US           100   \n",
              "2640  225000             USD         225000                 US           100   \n",
              "2650   57000             USD          57000                 US           100   \n",
              "0      80000             EUR          85847                 ES           100   \n",
              "\n",
              "     company_location company_size  \n",
              "1877               US            M  \n",
              "1382               US            M  \n",
              "1381               US            M  \n",
              "1380               US            M  \n",
              "1379               US            M  \n",
              "...               ...          ...  \n",
              "2642               US            M  \n",
              "2641               US            M  \n",
              "2640               US            M  \n",
              "2650               US            L  \n",
              "0                  ES            L  \n",
              "\n",
              "[3755 rows x 11 columns]"
            ]
          },
          "execution_count": 31,
          "metadata": {},
          "output_type": "execute_result"
        }
      ],
      "source": [
        "df.sort_values([\"remote_ratio\"], ascending=[1]) #urutan data berdasarkan remote_ratio"
      ]
    },
    {
      "cell_type": "markdown",
      "metadata": {
        "id": "moJDzZqITAvK"
      },
      "source": [
        "**Statistik:**"
      ]
    },
    {
      "cell_type": "code",
      "execution_count": null,
      "metadata": {
        "colab": {
          "base_uri": "https://localhost:8080/"
        },
        "id": "I4Xp1-OdVok4",
        "outputId": "c9a077e5-0327-4038-a711-fac5212ce314"
      },
      "outputs": [
        {
          "name": "stdout",
          "output_type": "stream",
          "text": [
            "         work_year        salary  salary_in_usd  remote_ratio\n",
            "count  3755.000000  3.755000e+03    3755.000000   3755.000000\n",
            "mean   2022.373635  1.906956e+05  137570.389880     46.271638\n",
            "std       0.691448  6.716765e+05   63055.625278     48.589050\n",
            "min    2020.000000  6.000000e+03    5132.000000      0.000000\n",
            "25%    2022.000000  1.000000e+05   95000.000000      0.000000\n",
            "50%    2022.000000  1.380000e+05  135000.000000      0.000000\n",
            "75%    2023.000000  1.800000e+05  175000.000000    100.000000\n",
            "max    2023.000000  3.040000e+07  450000.000000    100.000000\n"
          ]
        }
      ],
      "source": [
        "print(df.describe()) #menampilkan hasil statistics summary"
      ]
    },
    {
      "cell_type": "code",
      "execution_count": null,
      "metadata": {
        "colab": {
          "base_uri": "https://localhost:8080/"
        },
        "id": "4Kd_EtgWTC6X",
        "outputId": "02f6bcd2-8da2-497f-ae76-64b9f1758ea8"
      },
      "outputs": [
        {
          "name": "stdout",
          "output_type": "stream",
          "text": [
            "work_year persentil 10%= 2022.0\n",
            "salary persentil 10%= 60000.0\n",
            "salary_in_usd persentil 10%= 59537.00000000002\n",
            "remote_ratio persentil 10%= 0.0\n",
            "work_year persentil 90%= 2023.0\n",
            "salary persentil 90%= 228599.9999999999\n",
            "salary_in_usd persentil 90%= 219000.0\n",
            "remote_ratio persentil 90%= 100.0\n"
          ]
        }
      ],
      "source": [
        "\n",
        "#Mencari persentil yang 10 dan 90%\n",
        "a=\"work_year\"\n",
        "b=\"salary\"\n",
        "c=\"salary_in_usd\"\n",
        "d=\"remote_ratio\"\n",
        "df_numeric1 = df[a].apply(pd.to_numeric, errors='coerce')\n",
        "df_numeric2 = df[b].apply(pd.to_numeric, errors='coerce')\n",
        "df_numeric3 = df[c].apply(pd.to_numeric, errors='coerce')\n",
        "df_numeric4 = df[d].apply(pd.to_numeric, errors='coerce')\n",
        "persentil_10_1 = np.percentile(df_numeric1, 10)\n",
        "persentil_10_2 = np.percentile(df_numeric2, 10)\n",
        "persentil_10_3 = np.percentile(df_numeric3, 10)\n",
        "persentil_10_4 = np.percentile(df_numeric4, 10)\n",
        "persentil_90_1 = np.percentile(df_numeric1, 90)\n",
        "persentil_90_2 = np.percentile(df_numeric2, 90)\n",
        "persentil_90_3 = np.percentile(df_numeric3, 90)\n",
        "persentil_90_4 = np.percentile(df_numeric4, 90)\n",
        "print(a,\"persentil 10%=\",persentil_10_1 )\n",
        "print(b,\"persentil 10%=\",persentil_10_2 )\n",
        "print(c,\"persentil 10%=\",persentil_10_3 )\n",
        "print(d,\"persentil 10%=\",persentil_10_4 )\n",
        "print(a,\"persentil 90%=\",persentil_90_1 )\n",
        "print(b,\"persentil 90%=\",persentil_90_2 )\n",
        "print(c,\"persentil 90%=\",persentil_90_3 )\n",
        "print(d,\"persentil 90%=\",persentil_90_4 )\n"
      ]
    },
    {
      "cell_type": "markdown",
      "metadata": {
        "id": "-K-HnmllV3M9"
      },
      "source": [
        "**Distribusi Frekuensi**"
      ]
    },
    {
      "cell_type": "code",
      "execution_count": null,
      "metadata": {
        "colab": {
          "base_uri": "https://localhost:8080/"
        },
        "id": "DahTCPOzV2L2",
        "outputId": "7d593aed-34aa-4a2c-8cf9-24bfdb9da18e"
      },
      "outputs": [
        {
          "name": "stdout",
          "output_type": "stream",
          "text": [
            "2020      76\n",
            "2021     230\n",
            "2022    1664\n",
            "2023    1785\n",
            "Name: work_year, dtype: int64\n"
          ]
        }
      ],
      "source": [
        "print(df['work_year'].value_counts().sort_index())"
      ]
    },
    {
      "cell_type": "code",
      "execution_count": null,
      "metadata": {
        "colab": {
          "base_uri": "https://localhost:8080/"
        },
        "id": "nuDJagMTV7vm",
        "outputId": "eaa04291-3e4b-4c18-cc44-15d47300c709"
      },
      "outputs": [
        {
          "name": "stdout",
          "output_type": "stream",
          "text": [
            "EN     320\n",
            "EX     114\n",
            "MI     805\n",
            "SE    2516\n",
            "Name: experience_level, dtype: int64\n"
          ]
        }
      ],
      "source": [
        "print(df['experience_level'].value_counts().sort_index())"
      ]
    },
    {
      "cell_type": "code",
      "execution_count": null,
      "metadata": {
        "colab": {
          "base_uri": "https://localhost:8080/"
        },
        "id": "gH-dsbmCWAzV",
        "outputId": "ec936002-7d72-45e3-f2cc-90ce1c68db77"
      },
      "outputs": [
        {
          "name": "stdout",
          "output_type": "stream",
          "text": [
            "CT      10\n",
            "FL      10\n",
            "FT    3718\n",
            "PT      17\n",
            "Name: employment_type, dtype: int64\n"
          ]
        }
      ],
      "source": [
        "print(df['employment_type'].value_counts().sort_index())"
      ]
    },
    {
      "cell_type": "code",
      "execution_count": null,
      "metadata": {
        "colab": {
          "base_uri": "https://localhost:8080/"
        },
        "id": "mvHYvL0UWD5-",
        "outputId": "f6d7f84c-021f-470a-fea7-e42ca69c1d3e"
      },
      "outputs": [
        {
          "name": "stdout",
          "output_type": "stream",
          "text": [
            "3D Computer Vision Researcher      4\n",
            "AI Developer                      11\n",
            "AI Programmer                      2\n",
            "AI Scientist                      16\n",
            "Analytics Engineer               103\n",
            "                                ... \n",
            "Research Engineer                 37\n",
            "Research Scientist                82\n",
            "Software Data Engineer             2\n",
            "Staff Data Analyst                 1\n",
            "Staff Data Scientist               1\n",
            "Name: job_title, Length: 93, dtype: int64\n"
          ]
        }
      ],
      "source": [
        "print(df['job_title'].value_counts().sort_index())"
      ]
    },
    {
      "cell_type": "code",
      "execution_count": null,
      "metadata": {
        "colab": {
          "base_uri": "https://localhost:8080/"
        },
        "id": "OmD6GmoBWGxS",
        "outputId": "04e98c43-cbcb-4d54-ea44-94663f22f72a"
      },
      "outputs": [
        {
          "name": "stdout",
          "output_type": "stream",
          "text": [
            "AUD       9\n",
            "BRL       6\n",
            "CAD      25\n",
            "CHF       4\n",
            "CLP       1\n",
            "CZK       1\n",
            "DKK       3\n",
            "EUR     236\n",
            "GBP     161\n",
            "HKD       1\n",
            "HUF       3\n",
            "ILS       1\n",
            "INR      60\n",
            "JPY       3\n",
            "MXN       1\n",
            "PLN       5\n",
            "SGD       6\n",
            "THB       2\n",
            "TRY       3\n",
            "USD    3224\n",
            "Name: salary_currency, dtype: int64\n"
          ]
        }
      ],
      "source": [
        "print(df['salary_currency'].value_counts().sort_index())"
      ]
    },
    {
      "cell_type": "code",
      "execution_count": null,
      "metadata": {
        "colab": {
          "base_uri": "https://localhost:8080/"
        },
        "id": "aj6GIRSJWMAq",
        "outputId": "a45d48e8-33d8-4d44-8e9a-38ee98749f25"
      },
      "outputs": [
        {
          "name": "stdout",
          "output_type": "stream",
          "text": [
            "AE       3\n",
            "AM       1\n",
            "AR       6\n",
            "AS       2\n",
            "AT       6\n",
            "      ... \n",
            "TR       5\n",
            "UA       4\n",
            "US    3004\n",
            "UZ       2\n",
            "VN       3\n",
            "Name: employee_residence, Length: 78, dtype: int64\n"
          ]
        }
      ],
      "source": [
        "print(df['employee_residence'].value_counts().sort_index())"
      ]
    },
    {
      "cell_type": "code",
      "execution_count": null,
      "metadata": {
        "colab": {
          "base_uri": "https://localhost:8080/"
        },
        "id": "2WOMLnJVWPWQ",
        "outputId": "0b5b8b7a-9ae4-4fc8-b563-b1a3546c802d"
      },
      "outputs": [
        {
          "name": "stdout",
          "output_type": "stream",
          "text": [
            "0      1923\n",
            "50      189\n",
            "100    1643\n",
            "Name: remote_ratio, dtype: int64\n"
          ]
        }
      ],
      "source": [
        "print(df['remote_ratio'].value_counts().sort_index())"
      ]
    },
    {
      "cell_type": "code",
      "execution_count": null,
      "metadata": {
        "colab": {
          "base_uri": "https://localhost:8080/"
        },
        "id": "BkZDZkB2WRe7",
        "outputId": "8b2c9b25-3609-48b8-854c-bbcab1318ca1"
      },
      "outputs": [
        {
          "name": "stdout",
          "output_type": "stream",
          "text": [
            "AE       3\n",
            "AL       1\n",
            "AM       1\n",
            "AR       3\n",
            "AS       3\n",
            "      ... \n",
            "TH       3\n",
            "TR       5\n",
            "UA       4\n",
            "US    3040\n",
            "VN       1\n",
            "Name: company_location, Length: 72, dtype: int64\n"
          ]
        }
      ],
      "source": [
        "print(df['company_location'].value_counts().sort_index())"
      ]
    },
    {
      "cell_type": "code",
      "execution_count": null,
      "metadata": {
        "colab": {
          "base_uri": "https://localhost:8080/"
        },
        "id": "uCHUSboqWT24",
        "outputId": "6c95f25f-924a-4023-8055-f046b45ee538"
      },
      "outputs": [
        {
          "name": "stdout",
          "output_type": "stream",
          "text": [
            "L     454\n",
            "M    3153\n",
            "S     148\n",
            "Name: company_size, dtype: int64\n"
          ]
        }
      ],
      "source": [
        "print(df['company_size'].value_counts().sort_index())"
      ]
    },
    {
      "cell_type": "markdown",
      "metadata": {
        "id": "HzIhe9NiTUlp"
      },
      "source": [
        "#Tugas 6 (Visualisasi)"
      ]
    },
    {
      "cell_type": "code",
      "execution_count": null,
      "metadata": {
        "colab": {
          "base_uri": "https://localhost:8080/"
        },
        "id": "VGWwY7hEKQRD",
        "outputId": "30403876-d03c-4496-8141-e59a6a4ed455"
      },
      "outputs": [
        {
          "name": "stdout",
          "output_type": "stream",
          "text": [
            "Collecting squarify\n",
            "  Downloading squarify-0.4.3-py3-none-any.whl (4.3 kB)\n",
            "Installing collected packages: squarify\n",
            "Successfully installed squarify-0.4.3\n"
          ]
        }
      ],
      "source": [
        "pip install squarify"
      ]
    },
    {
      "cell_type": "code",
      "execution_count": null,
      "metadata": {
        "id": "mhKDR2n9FA-j"
      },
      "outputs": [],
      "source": [
        "import matplotlib.pyplot as plt #import library untuk visualisasi\n",
        "import seaborn as sns\n",
        "import squarify"
      ]
    },
    {
      "cell_type": "markdown",
      "metadata": {
        "id": "tXmV5mWgWXki"
      },
      "source": [
        "Keterangan:\n",
        "- Experience Level:\n",
        "1. SE = Senior\n",
        "2. MI = Mid-level\n",
        "3. EN = Entry-level\n",
        "4. EX = Executive\n",
        "\n",
        "- Employment_type:\n",
        "1. FT = Full Time\n",
        "2. CT = Contractual\n",
        "3. FL = Freelance\n",
        "4. PT = Part Time"
      ]
    },
    {
      "cell_type": "markdown",
      "metadata": {
        "id": "z1BJDPDFIqay"
      },
      "source": [
        "**Perbandingan Kategori**"
      ]
    },
    {
      "cell_type": "markdown",
      "metadata": {
        "id": "suo4lTb1JqR2"
      },
      "source": [
        "**Pertama**"
      ]
    },
    {
      "cell_type": "code",
      "execution_count": null,
      "metadata": {
        "colab": {
          "base_uri": "https://localhost:8080/",
          "height": 913
        },
        "id": "0mjdZ1b_ID7S",
        "outputId": "e3c1b7d5-0f63-4ca3-c051-a878b1185d5a"
      },
      "outputs": [
        {
          "data": {
            "text/plain": [
              "<matplotlib.legend.Legend at 0x784737238460>"
            ]
          },
          "execution_count": 53,
          "metadata": {},
          "output_type": "execute_result"
        },
        {
          "data": {
            "image/png": "[encoded data removed]",
            "text/plain": [
              "<Figure size 2500x1000 with 1 Axes>"
            ]
          },
          "metadata": {},
          "output_type": "display_data"
        }
      ],
      "source": [
        "dt= df.groupby('job_title')['salary_in_usd'].mean().reset_index()\n",
        "med=dt['salary_in_usd'].median()\n",
        "dt['below_median']=dt['salary_in_usd'] < med\n",
        "fig, ax = plt.subplots(figsize=(25, 10))\n",
        "colors = dt['below_median'].map({True: 'red', False: 'green'})\n",
        "dt.plot(kind='bar',x='job_title',y='salary_in_usd',title=\"Perbandingan Rata-Rata Pendapatan Setiap Titel Pekerjaan\",color=colors,ax=ax)\n",
        "ax.set_xlabel('Titel Pekerjaan')\n",
        "ax.set_ylabel('Rata-Rata Pendapatan(USD)')\n",
        "ax.axhline(y=med, color='blue', linestyle='--', label='Median')\n",
        "above_median = plt.Line2D([0], [0], marker='o', color='w', markerfacecolor='green', markersize=10, label='Salary above median')\n",
        "below_median = plt.Line2D([0], [0], marker='o', color='w', markerfacecolor='red', markersize=10, label='Salary below median')\n",
        "ax.legend(handles=[above_median, below_median])"
      ]
    },
    {
      "cell_type": "markdown",
      "metadata": {
        "id": "bVpKWuNCIGtc"
      },
      "source": [
        "Dari visualisasi di atas kita dapat melihat berbagai title pekerjaan yang memiliki pendapatan di bawah median pendapatan setiap pekerja data analis. Median dipilih karena dapat mempresentasikan nilai tengah dengan baik dibandingkan rata-rata yang dapat menjadi berbeda jauh bila ada dua nilai dengan range yang tinggi."
      ]
    },
    {
      "cell_type": "markdown",
      "metadata": {
        "id": "wbQ_k7LNJsrb"
      },
      "source": [
        "**Kedua**"
      ]
    },
    {
      "cell_type": "code",
      "execution_count": null,
      "metadata": {
        "colab": {
          "base_uri": "https://localhost:8080/",
          "height": 505
        },
        "id": "u3a6yibLINY5",
        "outputId": "81244ada-7889-4f82-e022-fd5185336906"
      },
      "outputs": [
        {
          "data": {
            "text/plain": [
              "Text(0, 0.5, 'Employment Type Frequency')"
            ]
          },
          "execution_count": 54,
          "metadata": {},
          "output_type": "execute_result"
        },
        {
          "data": {
            "image/png": "[encoded data removed]",
            "text/plain": [
              "<Figure size 1000x500 with 1 Axes>"
            ]
          },
          "metadata": {},
          "output_type": "display_data"
        }
      ],
      "source": [
        "df=pd.read_csv('ds_salaries.csv')\n",
        "plt.figure(figsize=(10,5))\n",
        "sns.countplot(x='experience_level', hue='employment_type', data=df,)\n",
        "plt.yscale('symlog')\n",
        "plt.title('Frequency of Employment Type for each Experience Level')\n",
        "plt.xlabel('Experience Level')\n",
        "plt.ylabel('Employment Type Frequency')"
      ]
    },
    {
      "cell_type": "markdown",
      "metadata": {
        "id": "kYR9eqYXIcDD"
      },
      "source": [
        "Dari Visualisasi di atas kita dapat melihat bahwa untuk tingkat pengelaman executive lebih memilih untuk mengambil pekerjaan full-time maupun contractual. Tipe employment Part Time hanya terdapat pada tingkat mid-level(MI) maupun entry-level(EN) karena mereka masih baru dalam pekerjaan sehingga masih mengambil part-time job. Pada experience level Senior (SE) dominan memilih untuk mengambil full-time job"
      ]
    },
    {
      "cell_type": "markdown",
      "metadata": {
        "id": "tXntHHinIy-Q"
      },
      "source": [
        "**Penampilan Perubahan Terhadap Waktu**"
      ]
    },
    {
      "cell_type": "markdown",
      "metadata": {
        "id": "OxxkH4EdJv51"
      },
      "source": [
        "**Pertama**"
      ]
    },
    {
      "cell_type": "code",
      "execution_count": null,
      "metadata": {
        "colab": {
          "base_uri": "https://localhost:8080/",
          "height": 490
        },
        "id": "L9iPOHlWIdD2",
        "outputId": "e157c375-9221-41ad-a14c-d4dabb9ce00e"
      },
      "outputs": [
        {
          "data": {
            "text/plain": [
              "Text(0, 0.5, 'Job Title Frequency')"
            ]
          },
          "execution_count": 55,
          "metadata": {},
          "output_type": "execute_result"
        },
        {
          "data": {
            "image/png": "[encoded data removed]",
            "text/plain": [
              "<Figure size 640x480 with 1 Axes>"
            ]
          },
          "metadata": {},
          "output_type": "display_data"
        }
      ],
      "source": [
        "job_title_counts = df.groupby(['work_year', 'job_title']).size().reset_index(name='Frequency')\n",
        "top3_per_year = job_title_counts.sort_values(['work_year', 'Frequency'], ascending=[True, False]).groupby('work_year').head(3)\n",
        "pivot_data = top3_per_year.pivot(index='work_year', columns='job_title', values='Frequency')\n",
        "colors = ['blue', 'lime', 'red']\n",
        "plt.stackplot(pivot_data.index, pivot_data.T, labels=pivot_data.columns, colors=colors, alpha=0.7)\n",
        "plt.title('Top 3 Job Title 2020-2023')\n",
        "plt.xlabel('Year')\n",
        "plt.ylabel('Job Title Frequency')"
      ]
    },
    {
      "cell_type": "markdown",
      "metadata": {
        "id": "C8L3n0WKJiTK"
      },
      "source": [
        "Dari visualisasi tersebut dapat dilihat bahwa pada tiap tahunnya, pekerjaan dengan jumlah pekerja pada peringkat tiga teratas selalu sama setiap tahunnya dan selalu didominasi oleh Data Scientist"
      ]
    },
    {
      "cell_type": "markdown",
      "metadata": {
        "id": "q_4lCb9PJxrA"
      },
      "source": [
        "**Kedua**"
      ]
    },
    {
      "cell_type": "code",
      "execution_count": null,
      "metadata": {
        "colab": {
          "base_uri": "https://localhost:8080/",
          "height": 489
        },
        "id": "fmB7LlNFJjJC",
        "outputId": "0dea5a21-493b-4828-91a2-21838466524c"
      },
      "outputs": [
        {
          "data": {
            "text/plain": [
              "Text(0, 0.5, 'Year')"
            ]
          },
          "execution_count": 56,
          "metadata": {},
          "output_type": "execute_result"
        },
        {
          "data": {
            "image/png": "[encoded data removed]",
            "text/plain": [
              "<Figure size 640x480 with 1 Axes>"
            ]
          },
          "metadata": {},
          "output_type": "display_data"
        }
      ],
      "source": [
        "residence_counts = df.groupby(['work_year', 'employee_residence']).size().reset_index(name='Frequency')\n",
        "top_residences = residence_counts.groupby('employee_residence')['Frequency'].sum().nlargest(5).index\n",
        "filtered_residences = residence_counts[residence_counts['employee_residence'].isin(top_residences)]\n",
        "pivot_data = filtered_residences.pivot(index='work_year', columns='employee_residence', values='Frequency')\n",
        "pivot_data.plot(kind='line', marker='o')\n",
        "plt.title('Employee Residence Frequency for Each Year')\n",
        "plt.xlabel('Employee Residence Frequency')\n",
        "plt.ylabel('Year')"
      ]
    },
    {
      "cell_type": "markdown",
      "metadata": {
        "id": "Xd0BqeXjJoOp"
      },
      "source": [
        "Dari visualisasi di atas kita dapat melihat bahwa setiap tahunnya pekerjaan data science didominasi oleh pekerja berdomisili US (United States)"
      ]
    },
    {
      "cell_type": "markdown",
      "metadata": {
        "id": "HpDiywB3J1jK"
      },
      "source": [
        "**Penampilan Hierarki dan Hubungan Keseluruhan Bagian**"
      ]
    },
    {
      "cell_type": "markdown",
      "metadata": {
        "id": "DQhEPGhuJ6X0"
      },
      "source": [
        "**Pertama**"
      ]
    },
    {
      "cell_type": "code",
      "execution_count": null,
      "metadata": {
        "colab": {
          "base_uri": "https://localhost:8080/",
          "height": 445
        },
        "id": "PuPwWHNsJ33g",
        "outputId": "8dbb2ce2-4f1f-4bcc-faa1-31c40cee9625"
      },
      "outputs": [
        {
          "data": {
            "text/plain": [
              "Text(0, 0.5, 'Company Size')"
            ]
          },
          "execution_count": 57,
          "metadata": {},
          "output_type": "execute_result"
        },
        {
          "data": {
            "image/png": "[encoded data removed]",
            "text/plain": [
              "<Figure size 640x480 with 1 Axes>"
            ]
          },
          "metadata": {},
          "output_type": "display_data"
        }
      ],
      "source": [
        "dt= df['company_size'].value_counts()\n",
        "dt.plot(kind='pie')\n",
        "plt.title('Frekuensi Jumlah Pekerja yang Bekerja di Perusahaan')\n",
        "plt.ylabel('Company Size')"
      ]
    },
    {
      "cell_type": "markdown",
      "metadata": {
        "id": "Aizs6uFlKBS2"
      },
      "source": [
        "Company size menunjukkan median jumlah pekerja yang bekerja di perusahaan tersebut, M merupakan medium (jumlah pekerja yang standar), large (jumlah pekerja yang banyak), dan small (jumlah pekerja yang sedikit). Dari visualisasi di atas, dapat dilihat bahwa rata-rata perusahaan memiliki ukuran tampung pekerja di tingkat medium, disusul oleh tingkat large, dan terakhir di tingkat small."
      ]
    },
    {
      "cell_type": "markdown",
      "metadata": {
        "id": "MgaQv-5VKEdW"
      },
      "source": [
        "**Kedua**"
      ]
    },
    {
      "cell_type": "code",
      "execution_count": null,
      "metadata": {
        "colab": {
          "base_uri": "https://localhost:8080/",
          "height": 423
        },
        "id": "Ip1-YK3WKFxN",
        "outputId": "01511b84-76c9-47a0-a33e-21d023e4bc42"
      },
      "outputs": [
        {
          "data": {
            "text/plain": [
              "(0.0, 100.0, 0.0, 100.0)"
            ]
          },
          "execution_count": 61,
          "metadata": {},
          "output_type": "execute_result"
        },
        {
          "data": {
            "image/png": "[encoded data removed]",
            "text/plain": [
              "<Figure size 640x480 with 1 Axes>"
            ]
          },
          "metadata": {},
          "output_type": "display_data"
        }
      ],
      "source": [
        "dt=df.groupby('employment_type')[['salary_in_usd']].std()\n",
        "colors=['red','blue','lime','orange']\n",
        "squarify.plot(sizes=dt.values,color=colors,label=dt.index,alpha=0.7)\n",
        "plt.axis('off')"
      ]
    },
    {
      "cell_type": "markdown",
      "metadata": {
        "id": "vTKK6NWQKaFk"
      },
      "source": [
        "Dari visualisasi di atas menunjukkan bahwa di antara semua tipe pekerjaan, pekerjaan contractual lah yang memiliki standar deviasi yang paling besar, hal ini menunjukkan bahwa pendapatan pekerjaan contractual memiliki persebaran data terhadap rata-rata yang paling besar, sedangkan pada full-time memiliki persebaran data terhadap rata-rata yang paling kecil."
      ]
    },
    {
      "cell_type": "code",
      "execution_count": null,
      "metadata": {
        "colab": {
          "base_uri": "https://localhost:8080/",
          "height": 423
        },
        "id": "WeZvDu0WKfg7",
        "outputId": "33266e1b-300f-473e-f28c-b668d1ffa724"
      },
      "outputs": [
        {
          "data": {
            "text/plain": [
              "(0.0, 100.0, 0.0, 100.0)"
            ]
          },
          "execution_count": 62,
          "metadata": {},
          "output_type": "execute_result"
        },
        {
          "data": {
            "image/png": "[encoded data removed]",
            "text/plain": [
              "<Figure size 640x480 with 1 Axes>"
            ]
          },
          "metadata": {},
          "output_type": "display_data"
        }
      ],
      "source": [
        "dt=df.groupby('experience_level')[['salary_in_usd']].std()\n",
        "colors=['red','blue','lime','orange']\n",
        "squarify.plot(sizes=dt.values,color=colors,label=dt.index,alpha=0.7)\n",
        "plt.axis('off')"
      ]
    },
    {
      "cell_type": "markdown",
      "metadata": {
        "id": "W8_BNe4KKimO"
      },
      "source": [
        "Dari visualisasi di atas menunjukkan bahwa di antara semua tipe pekerjaan, level executive lah yang memiliki standar deviasi yang paling besar, hal ini menunjukkan bahwa pendapatan level executive memiliki persebaran data terhadap rata-rata yang paling besar, sedangkan pada entry-level memiliki persebaran data terhadap rata-rata yang paling kecil."
      ]
    },
    {
      "cell_type": "markdown",
      "metadata": {
        "id": "wTBi8zxvKkr5"
      },
      "source": [
        "**Plotting Relationship**"
      ]
    },
    {
      "cell_type": "code",
      "execution_count": null,
      "metadata": {
        "colab": {
          "base_uri": "https://localhost:8080/",
          "height": 504
        },
        "id": "5DHTkaYKKoho",
        "outputId": "41256479-b0d9-47ce-f74c-c9f3cdb6c92e"
      },
      "outputs": [
        {
          "data": {
            "text/plain": [
              "<Axes: title={'center': 'Salary x Work Year'}, xlabel='salary', ylabel='work_year'>"
            ]
          },
          "execution_count": 65,
          "metadata": {},
          "output_type": "execute_result"
        },
        {
          "data": {
            "image/png": "[encoded data removed]",
            "text/plain": [
              "<Figure size 1000x500 with 1 Axes>"
            ]
          },
          "metadata": {},
          "output_type": "display_data"
        }
      ],
      "source": [
        "df.plot(kind='scatter',x='salary',y='work_year',title=\"Salary x Work Year\",figsize=(10,5))"
      ]
    },
    {
      "cell_type": "markdown",
      "metadata": {
        "id": "2uWIs5oTKx3Y"
      },
      "source": [
        "Dari visualisasi tersebut, diperoleh bahwa perhitungan salary dan work year tidak memiliki korelasi (tidak berhubungan)."
      ]
    },
    {
      "cell_type": "markdown",
      "metadata": {
        "id": "M2ntSXVWK6Z-"
      },
      "source": [
        "**Kedua**"
      ]
    },
    {
      "cell_type": "code",
      "execution_count": null,
      "metadata": {
        "colab": {
          "base_uri": "https://localhost:8080/",
          "height": 504
        },
        "id": "TkW1-DGALFKx",
        "outputId": "0a7e3f3f-8865-43da-c968-c834db1bea2f"
      },
      "outputs": [
        {
          "data": {
            "text/plain": [
              "<Axes: title={'center': ' Salary in USD x Work Year'}, xlabel='salary_in_usd', ylabel='work_year'>"
            ]
          },
          "execution_count": 66,
          "metadata": {},
          "output_type": "execute_result"
        },
        {
          "data": {
            "image/png": "[encoded data removed]",
            "text/plain": [
              "<Figure size 1000x500 with 1 Axes>"
            ]
          },
          "metadata": {},
          "output_type": "display_data"
        }
      ],
      "source": [
        "df.plot(kind='scatter',x='salary_in_usd',y='work_year',title=\" Salary in USD x Work Year\",figsize=(10,5))"
      ]
    },
    {
      "cell_type": "markdown",
      "metadata": {
        "id": "0zYaRB2iLGwv"
      },
      "source": [
        "Pada grafik scatter plot tersebut, diperoleh juga ketidakhubungan antara salary in USD dengan work year. Namun, bila melihat lebih teliti pada visualisasi tersebut, semakin tahun bertambah,kecederungan besarnya salary in USD cenderung semakin besar (dilihat dari plot yang semakin panjang pada tahun berikutnya."
      ]
    },
    {
      "cell_type": "markdown",
      "metadata": {
        "id": "HwtSnYuuWaLZ"
      },
      "source": [
        "#Tugas 7 (Korelasi)"
      ]
    },
    {
      "cell_type": "markdown",
      "metadata": {
        "id": "L_cNdG3OWxpH"
      },
      "source": [
        "**Korelasi dalam bentuk angka:**"
      ]
    },
    {
      "cell_type": "code",
      "execution_count": null,
      "metadata": {
        "colab": {
          "base_uri": "https://localhost:8080/"
        },
        "id": "Tq5IuLYvWeDA",
        "outputId": "3e9601d3-7a32-4cbf-f873-335b56ca55af"
      },
      "outputs": [
        {
          "name": "stdout",
          "output_type": "stream",
          "text": [
            "-0.02367581398124927\n",
            "hubungan antara salary in usd dan salary tidak berhubungan \n",
            "-0.09472388764164344\n",
            "hubungan antara salary in usd dan work year tidak berhubungan \n",
            "0.02873084983596481\n",
            "hubungan antara remote ratio dan salary tidak berhubungan \n",
            "-0.23642984282567228\n",
            "hubungan antara salary in usd dan salary tidak berhubungan \n",
            "0.22829002243287852\n",
            "hubungan antara salary in usd dan work year tidak berhubungan \n",
            "-0.06417098519057558\n",
            "hubungan antara salary in usd dan remote ratio tidak berhubungan \n"
          ]
        }
      ],
      "source": [
        "a=df[\"salary_in_usd\"].corr(df[\"salary\"])#Hubungan salary dan salary in usd\n",
        "b=df[\"work_year\"].corr(df[\"salary\"])#hubungan work year dan salary\n",
        "c=df[\"remote_ratio\"].corr(df[\"salary\"])#hubungan remote ration dan salary\n",
        "d=df[\"work_year\"].corr(df[\"remote_ratio\"])#hubungan work year dan remote ratio\n",
        "e=df[\"salary_in_usd\"].corr(df[\"work_year\"])#hubungan salary in usd dan work year\n",
        "f=df[\"salary_in_usd\"].corr(df[\"remote_ratio\"])#hubungan salary in usd dan remote ratio\n",
        "print(a)\n",
        "if a<-0.5:\n",
        "  print(\"hubungan antara salary in usd dan salary berbanding terbalik \")\n",
        "elif a>0.5:\n",
        "  print(\"hubungan antara salary in usd dan salary berbanding lurus \")\n",
        "else:\n",
        "  print(\"hubungan antara salary in usd dan salary tidak berhubungan \")\n",
        "print(b)\n",
        "if b<-0.5:\n",
        "  print(\"hubungan antara salary in usd dan work year berbanding terbalik \")\n",
        "elif b>0.5:\n",
        "  print(\"hubungan antara salary in usd dan work year berbanding lurus \")\n",
        "else:\n",
        "  print(\"hubungan antara salary in usd dan work year tidak berhubungan \")\n",
        "print(c)\n",
        "if c<-0.5:\n",
        "  print(\"hubungan antara remote ratio dan salary berbanding terbalik \")\n",
        "elif c>0.5:\n",
        "  print(\"hubungan antara remote ratio dan salary berbanding lurus \")\n",
        "else:\n",
        "  print(\"hubungan antara remote ratio dan salary tidak berhubungan \")\n",
        "print(d)\n",
        "if d<-0.5:\n",
        "  print(\"hubungan antara salary in usd dan salary berbanding terbalik \")\n",
        "elif d>0.5:\n",
        "  print(\"hubungan antara salary in usd dan salary berbanding lurus \")\n",
        "else:\n",
        "  print(\"hubungan antara salary in usd dan salary tidak berhubungan \")\n",
        "print(e)\n",
        "if e<-0.5:\n",
        "  print(\"hubungan antara salary in usd dan work year berbanding terbalik \")\n",
        "elif e>0.5:\n",
        "  print(\"hubungan antara salary in usd dan work year berbanding lurus \")\n",
        "else:\n",
        "  print(\"hubungan antara salary in usd dan work year tidak berhubungan \")\n",
        "print(f)\n",
        "if f<-0.5:\n",
        "  print(\"hubungan antara salary in usd dan remote ratio berbanding terbalik \")\n",
        "elif f>0.5:\n",
        "  print(\"hubungan antara salary in usd dan remote ratio berbanding lurus \")\n",
        "else:\n",
        "  print(\"hubungan antara salary in usd dan remote ratio tidak berhubungan \")"
      ]
    },
    {
      "cell_type": "markdown",
      "metadata": {
        "id": "VxZNpmWOW1Ir"
      },
      "source": [
        "**Korelasi dalam bentuk visualisasi**"
      ]
    },
    {
      "cell_type": "code",
      "execution_count": null,
      "metadata": {
        "colab": {
          "base_uri": "https://localhost:8080/",
          "height": 1000
        },
        "id": "lThMS6NhW-Ht",
        "outputId": "7191cb4a-65c2-464e-b2b2-df55dffbf196"
      },
      "outputs": [
        {
          "data": {
            "text/plain": [
              "<Axes: title={'center': 'Salary in USD x Remote Ratio'}, xlabel='salary_in_usd', ylabel='remote_ratio'>"
            ]
          },
          "execution_count": 64,
          "metadata": {},
          "output_type": "execute_result"
        },
        {
          "data": {
            "image/png": "[encoded data removed]",
            "text/plain": [
              "<Figure size 1000x500 with 1 Axes>"
            ]
          },
          "metadata": {},
          "output_type": "display_data"
        },
        {
          "data": {
            "image/png": "[encoded data removed]",
            "text/plain": [
              "<Figure size 1000x500 with 1 Axes>"
            ]
          },
          "metadata": {},
          "output_type": "display_data"
        },
        {
          "data": {
            "image/png": "[encoded data removed]",
            "text/plain": [
              "<Figure size 1000x500 with 1 Axes>"
            ]
          },
          "metadata": {},
          "output_type": "display_data"
        },
        {
          "data": {
            "image/png": "[encoded data removed]",
            "text/plain": [
              "<Figure size 1000x500 with 1 Axes>"
            ]
          },
          "metadata": {},
          "output_type": "display_data"
        },
        {
          "data": {
            "image/png": "[encoded data removed]",
            "text/plain": [
              "<Figure size 1000x500 with 1 Axes>"
            ]
          },
          "metadata": {},
          "output_type": "display_data"
        },
        {
          "data": {
            "image/png": "[encoded data removed]",
            "text/plain": [
              "<Figure size 1000x500 with 1 Axes>"
            ]
          },
          "metadata": {},
          "output_type": "display_data"
        }
      ],
      "source": [
        "df.plot(kind='scatter',x='salary',y='salary_in_usd',title=\"Salary x Salary in USD\",figsize=(10,5))\n",
        "df.plot(kind='scatter',x='salary',y='work_year',title=\"Salary x Work Year\",figsize=(10,5))\n",
        "df.plot(kind='scatter',x='salary',y='remote_ratio',title=\"Salary x Remote Ratio\",figsize=(10,5))\n",
        "df.plot(kind='scatter',x='work_year',y='remote_ratio',title=\"Work Year x Remote Ratio\",figsize=(10,5))\n",
        "df.plot(kind='scatter',x='salary_in_usd',y='work_year',title=\" Salary in USD x Work Year\",figsize=(10,5))\n",
        "df.plot(kind='scatter',x='salary_in_usd',y='remote_ratio',title=\"Salary in USD x Remote Ratio\",figsize=(10,5))"
      ]
    },
    {
      "cell_type": "code",
      "execution_count": null,
      "metadata": {
        "colab": {
          "background_save": true
        },
        "id": "ZQrUKL17OK1N",
        "outputId": "44a01660-60f9-41a2-8550-47e244bb59e0"
      },
      "outputs": [
        {
          "ename": "NameError",
          "evalue": "ignored",
          "output_type": "error",
          "traceback": [
            "\u001b[0;31m---------------------------------------------------------------------------\u001b[0m",
            "\u001b[0;31mNameError\u001b[0m                                 Traceback (most recent call last)",
            "\u001b[0;32m<ipython-input-9-bc126b1e2b2e>\u001b[0m in \u001b[0;36m<cell line: 4>\u001b[0;34m()\u001b[0m\n\u001b[1;32m      2\u001b[0m \u001b[0;32mimport\u001b[0m \u001b[0mseaborn\u001b[0m \u001b[0;32mas\u001b[0m \u001b[0msns\u001b[0m\u001b[0;34m\u001b[0m\u001b[0;34m\u001b[0m\u001b[0m\n\u001b[1;32m      3\u001b[0m \u001b[0;34m\u001b[0m\u001b[0m\n\u001b[0;32m----> 4\u001b[0;31m \u001b[0mcorrelation_matrix\u001b[0m \u001b[0;34m=\u001b[0m \u001b[0mdf\u001b[0m\u001b[0;34m.\u001b[0m\u001b[0mselect_dtypes\u001b[0m\u001b[0;34m.\u001b[0m\u001b[0mcorr\u001b[0m\u001b[0;34m(\u001b[0m\u001b[0;34m)\u001b[0m\u001b[0;34m\u001b[0m\u001b[0;34m\u001b[0m\u001b[0m\n\u001b[0m\u001b[1;32m      5\u001b[0m \u001b[0mfig\u001b[0m\u001b[0;34m,\u001b[0m \u001b[0maces\u001b[0m \u001b[0;34m=\u001b[0m \u001b[0mplt\u001b[0m\u001b[0;34m.\u001b[0m\u001b[0msubplots\u001b[0m \u001b[0;34m(\u001b[0m\u001b[0mfigsize\u001b[0m\u001b[0;34m=\u001b[0m\u001b[0;34m(\u001b[0m\u001b[0;36m8\u001b[0m\u001b[0;34m,\u001b[0m\u001b[0;36m6\u001b[0m\u001b[0;34m)\u001b[0m\u001b[0;34m)\u001b[0m\u001b[0;34m\u001b[0m\u001b[0;34m\u001b[0m\u001b[0m\n\u001b[1;32m      6\u001b[0m \u001b[0msns\u001b[0m\u001b[0;34m.\u001b[0m\u001b[0mheatmap\u001b[0m\u001b[0;34m(\u001b[0m\u001b[0mcorrelation_matrix\u001b[0m\u001b[0;34m,\u001b[0m \u001b[0mannot\u001b[0m\u001b[0;34m=\u001b[0m\u001b[0;32mTrue\u001b[0m\u001b[0;34m,\u001b[0m \u001b[0mcmap\u001b[0m\u001b[0;34m=\u001b[0m \u001b[0;34m\"coolware\"\u001b[0m\u001b[0;34m,\u001b[0m \u001b[0mlinewidths\u001b[0m\u001b[0;34m=\u001b[0m\u001b[0;36m.5\u001b[0m\u001b[0;34m,\u001b[0m\u001b[0max\u001b[0m\u001b[0;34m=\u001b[0m\u001b[0maxes\u001b[0m\u001b[0;34m)\u001b[0m\u001b[0;34m\u001b[0m\u001b[0;34m\u001b[0m\u001b[0m\n",
            "\u001b[0;31mNameError\u001b[0m: name 'df' is not defined"
          ]
        }
      ],
      "source": [
        "import matplotlib.pyplot as plt\n",
        "import seaborn as sns\n",
        "\n",
        "correlation_matrix = df.select_dtypes(include=[\"float64\"]).corr()\n",
        "fig, aces = plt.subplots (figsizw=(8,6))\n",
        "sns.heatmap(correlation_matrix, annot=True, cmap= \"coolware\", linew)"
      ]
    }
  ],
  "metadata": {
    "colab": {
      "provenance": []
    },
    "kernelspec": {
      "display_name": "Python 3",
      "name": "python3"
    },
    "language_info": {
      "name": "python"
    }
  },
  "nbformat": 4,
  "nbformat_minor": 0
}